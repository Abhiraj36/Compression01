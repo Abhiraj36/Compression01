{
  "nbformat": 4,
  "nbformat_minor": 0,
  "metadata": {
    "colab": {
      "provenance": [],
      "gpuType": "T4",
      "include_colab_link": true
    },
    "kernelspec": {
      "name": "python3",
      "display_name": "Python 3"
    },
    "language_info": {
      "name": "python"
    },
    "accelerator": "GPU"
  },
  "cells": [
    {
      "cell_type": "markdown",
      "metadata": {
        "id": "view-in-github",
        "colab_type": "text"
      },
      "source": [
        "<a href=\"https://colab.research.google.com/github/Abhiraj36/Compression01/blob/main/CNN_compression.ipynb\" target=\"_parent\"><img src=\"https://colab.research.google.com/assets/colab-badge.svg\" alt=\"Open In Colab\"/></a>"
      ]
    },
    {
      "cell_type": "code",
      "execution_count": 1,
      "metadata": {
        "colab": {
          "base_uri": "https://localhost:8080/",
          "height": 991
        },
        "id": "dSz16n_AI_8f",
        "outputId": "dad50aeb-f010-446e-9063-493c0e1d1837"
      },
      "outputs": [
        {
          "output_type": "stream",
          "name": "stdout",
          "text": [
            "Requirement already satisfied: scikit-image in /usr/local/lib/python3.11/dist-packages (0.25.2)\n",
            "Requirement already satisfied: wandb in /usr/local/lib/python3.11/dist-packages (0.19.11)\n",
            "Requirement already satisfied: numpy>=1.24 in /usr/local/lib/python3.11/dist-packages (from scikit-image) (2.0.2)\n",
            "Requirement already satisfied: scipy>=1.11.4 in /usr/local/lib/python3.11/dist-packages (from scikit-image) (1.15.3)\n",
            "Requirement already satisfied: networkx>=3.0 in /usr/local/lib/python3.11/dist-packages (from scikit-image) (3.5)\n",
            "Requirement already satisfied: pillow>=10.1 in /usr/local/lib/python3.11/dist-packages (from scikit-image) (11.2.1)\n",
            "Requirement already satisfied: imageio!=2.35.0,>=2.33 in /usr/local/lib/python3.11/dist-packages (from scikit-image) (2.37.0)\n",
            "Requirement already satisfied: tifffile>=2022.8.12 in /usr/local/lib/python3.11/dist-packages (from scikit-image) (2025.6.1)\n",
            "Requirement already satisfied: packaging>=21 in /usr/local/lib/python3.11/dist-packages (from scikit-image) (24.2)\n",
            "Requirement already satisfied: lazy-loader>=0.4 in /usr/local/lib/python3.11/dist-packages (from scikit-image) (0.4)\n",
            "Requirement already satisfied: click!=8.0.0,>=7.1 in /usr/local/lib/python3.11/dist-packages (from wandb) (8.2.1)\n",
            "Requirement already satisfied: docker-pycreds>=0.4.0 in /usr/local/lib/python3.11/dist-packages (from wandb) (0.4.0)\n",
            "Requirement already satisfied: gitpython!=3.1.29,>=1.0.0 in /usr/local/lib/python3.11/dist-packages (from wandb) (3.1.44)\n",
            "Requirement already satisfied: platformdirs in /usr/local/lib/python3.11/dist-packages (from wandb) (4.3.8)\n",
            "Requirement already satisfied: protobuf!=4.21.0,!=5.28.0,<7,>=3.19.0 in /usr/local/lib/python3.11/dist-packages (from wandb) (5.29.5)\n",
            "Requirement already satisfied: psutil>=5.0.0 in /usr/local/lib/python3.11/dist-packages (from wandb) (5.9.5)\n",
            "Requirement already satisfied: pydantic<3 in /usr/local/lib/python3.11/dist-packages (from wandb) (2.11.5)\n",
            "Requirement already satisfied: pyyaml in /usr/local/lib/python3.11/dist-packages (from wandb) (6.0.2)\n",
            "Requirement already satisfied: requests<3,>=2.0.0 in /usr/local/lib/python3.11/dist-packages (from wandb) (2.32.3)\n",
            "Requirement already satisfied: sentry-sdk>=2.0.0 in /usr/local/lib/python3.11/dist-packages (from wandb) (2.29.1)\n",
            "Requirement already satisfied: setproctitle in /usr/local/lib/python3.11/dist-packages (from wandb) (1.3.6)\n",
            "Requirement already satisfied: setuptools in /usr/local/lib/python3.11/dist-packages (from wandb) (75.2.0)\n",
            "Requirement already satisfied: typing-extensions<5,>=4.4 in /usr/local/lib/python3.11/dist-packages (from wandb) (4.14.0)\n",
            "Requirement already satisfied: six>=1.4.0 in /usr/local/lib/python3.11/dist-packages (from docker-pycreds>=0.4.0->wandb) (1.17.0)\n",
            "Requirement already satisfied: gitdb<5,>=4.0.1 in /usr/local/lib/python3.11/dist-packages (from gitpython!=3.1.29,>=1.0.0->wandb) (4.0.12)\n",
            "Requirement already satisfied: annotated-types>=0.6.0 in /usr/local/lib/python3.11/dist-packages (from pydantic<3->wandb) (0.7.0)\n",
            "Requirement already satisfied: pydantic-core==2.33.2 in /usr/local/lib/python3.11/dist-packages (from pydantic<3->wandb) (2.33.2)\n",
            "Requirement already satisfied: typing-inspection>=0.4.0 in /usr/local/lib/python3.11/dist-packages (from pydantic<3->wandb) (0.4.1)\n",
            "Requirement already satisfied: charset-normalizer<4,>=2 in /usr/local/lib/python3.11/dist-packages (from requests<3,>=2.0.0->wandb) (3.4.2)\n",
            "Requirement already satisfied: idna<4,>=2.5 in /usr/local/lib/python3.11/dist-packages (from requests<3,>=2.0.0->wandb) (3.10)\n",
            "Requirement already satisfied: urllib3<3,>=1.21.1 in /usr/local/lib/python3.11/dist-packages (from requests<3,>=2.0.0->wandb) (2.4.0)\n",
            "Requirement already satisfied: certifi>=2017.4.17 in /usr/local/lib/python3.11/dist-packages (from requests<3,>=2.0.0->wandb) (2025.4.26)\n",
            "Requirement already satisfied: smmap<6,>=3.0.1 in /usr/local/lib/python3.11/dist-packages (from gitdb<5,>=4.0.1->gitpython!=3.1.29,>=1.0.0->wandb) (5.0.2)\n"
          ]
        },
        {
          "output_type": "display_data",
          "data": {
            "text/plain": [
              "<IPython.core.display.Javascript object>"
            ],
            "application/javascript": [
              "\n",
              "        window._wandbApiKey = new Promise((resolve, reject) => {\n",
              "            function loadScript(url) {\n",
              "            return new Promise(function(resolve, reject) {\n",
              "                let newScript = document.createElement(\"script\");\n",
              "                newScript.onerror = reject;\n",
              "                newScript.onload = resolve;\n",
              "                document.body.appendChild(newScript);\n",
              "                newScript.src = url;\n",
              "            });\n",
              "            }\n",
              "            loadScript(\"https://cdn.jsdelivr.net/npm/postmate/build/postmate.min.js\").then(() => {\n",
              "            const iframe = document.createElement('iframe')\n",
              "            iframe.style.cssText = \"width:0;height:0;border:none\"\n",
              "            document.body.appendChild(iframe)\n",
              "            const handshake = new Postmate({\n",
              "                container: iframe,\n",
              "                url: 'https://wandb.ai/authorize'\n",
              "            });\n",
              "            const timeout = setTimeout(() => reject(\"Couldn't auto authenticate\"), 5000)\n",
              "            handshake.then(function(child) {\n",
              "                child.on('authorize', data => {\n",
              "                    clearTimeout(timeout)\n",
              "                    resolve(data)\n",
              "                });\n",
              "            });\n",
              "            })\n",
              "        });\n",
              "    "
            ]
          },
          "metadata": {}
        },
        {
          "output_type": "stream",
          "name": "stderr",
          "text": [
            "\u001b[34m\u001b[1mwandb\u001b[0m: Logging into wandb.ai. (Learn how to deploy a W&B server locally: https://wandb.me/wandb-server)\n",
            "\u001b[34m\u001b[1mwandb\u001b[0m: You can find your API key in your browser here: https://wandb.ai/authorize?ref=models\n",
            "wandb: Paste an API key from your profile and hit enter:"
          ]
        },
        {
          "name": "stdout",
          "output_type": "stream",
          "text": [
            " ··········\n"
          ]
        },
        {
          "output_type": "stream",
          "name": "stderr",
          "text": [
            "\u001b[34m\u001b[1mwandb\u001b[0m: \u001b[33mWARNING\u001b[0m If you're specifying your api key in code, ensure this code is not shared publicly.\n",
            "\u001b[34m\u001b[1mwandb\u001b[0m: \u001b[33mWARNING\u001b[0m Consider setting the WANDB_API_KEY environment variable, or running `wandb login` from the command line.\n",
            "\u001b[34m\u001b[1mwandb\u001b[0m: No netrc file found, creating one.\n",
            "\u001b[34m\u001b[1mwandb\u001b[0m: Appending key for api.wandb.ai to your netrc file: /root/.netrc\n",
            "\u001b[34m\u001b[1mwandb\u001b[0m: Currently logged in as: \u001b[33mabhirajaryan\u001b[0m (\u001b[33mabhirajaryan-sarla-birla-university\u001b[0m) to \u001b[32mhttps://api.wandb.ai\u001b[0m. Use \u001b[1m`wandb login --relogin`\u001b[0m to force relogin\n"
          ]
        },
        {
          "output_type": "display_data",
          "data": {
            "text/plain": [
              "<IPython.core.display.HTML object>"
            ],
            "text/html": [
              "Tracking run with wandb version 0.19.11"
            ]
          },
          "metadata": {}
        },
        {
          "output_type": "display_data",
          "data": {
            "text/plain": [
              "<IPython.core.display.HTML object>"
            ],
            "text/html": [
              "Run data is saved locally in <code>/content/wandb/run-20250608_032148-978vvtah</code>"
            ]
          },
          "metadata": {}
        },
        {
          "output_type": "display_data",
          "data": {
            "text/plain": [
              "<IPython.core.display.HTML object>"
            ],
            "text/html": [
              "Syncing run <strong><a href='https://wandb.ai/abhirajaryan-sarla-birla-university/skip-autoencoder-compression/runs/978vvtah' target=\"_blank\">prime-butterfly-6</a></strong> to <a href='https://wandb.ai/abhirajaryan-sarla-birla-university/skip-autoencoder-compression' target=\"_blank\">Weights & Biases</a> (<a href='https://wandb.me/developer-guide' target=\"_blank\">docs</a>)<br>"
            ]
          },
          "metadata": {}
        },
        {
          "output_type": "display_data",
          "data": {
            "text/plain": [
              "<IPython.core.display.HTML object>"
            ],
            "text/html": [
              " View project at <a href='https://wandb.ai/abhirajaryan-sarla-birla-university/skip-autoencoder-compression' target=\"_blank\">https://wandb.ai/abhirajaryan-sarla-birla-university/skip-autoencoder-compression</a>"
            ]
          },
          "metadata": {}
        },
        {
          "output_type": "display_data",
          "data": {
            "text/plain": [
              "<IPython.core.display.HTML object>"
            ],
            "text/html": [
              " View run at <a href='https://wandb.ai/abhirajaryan-sarla-birla-university/skip-autoencoder-compression/runs/978vvtah' target=\"_blank\">https://wandb.ai/abhirajaryan-sarla-birla-university/skip-autoencoder-compression/runs/978vvtah</a>"
            ]
          },
          "metadata": {}
        },
        {
          "output_type": "stream",
          "name": "stderr",
          "text": [
            "100%|██████████| 170M/170M [00:13<00:00, 12.9MB/s]\n"
          ]
        },
        {
          "output_type": "stream",
          "name": "stdout",
          "text": [
            "\n",
            "Training Autoencoder...\n",
            "Autoencoder Epoch [1/5], Loss: 0.005736\n",
            "Autoencoder Epoch [2/5], Loss: 0.000588\n",
            "Autoencoder Epoch [3/5], Loss: 0.000367\n",
            "Autoencoder Epoch [4/5], Loss: 0.000272\n",
            "Autoencoder Epoch [5/5], Loss: 0.000213\n"
          ]
        }
      ],
      "source": [
        "import torch\n",
        "import torch.nn as nn\n",
        "import torch.optim as optim\n",
        "from torchvision import datasets, transforms\n",
        "from torch.utils.data import DataLoader\n",
        "from torchvision.utils import save_image\n",
        "import os\n",
        "!pip install scikit-image wandb\n",
        "\n",
        "from skimage.metrics import structural_similarity as ssim\n",
        "import numpy as np\n",
        "import time\n",
        "\n",
        "\n",
        "import wandb\n",
        "wandb.init(\n",
        "    project=\"skip-autoencoder-compression\",\n",
        "    config={\n",
        "        \"epochs_ae\": 5,\n",
        "        \"epochs_comp\": 10,\n",
        "        \"batch_size\": 128,\n",
        "        \"lr\": 0.001,\n",
        "        \"dataset\": \"CIFAR10\"\n",
        "    }\n",
        ")\n",
        "config = wandb.config\n",
        "\n",
        "\n",
        "# Ensure output directory exists\n",
        "os.makedirs(\"output_images\", exist_ok=True)\n",
        "\n",
        "# Device\n",
        "device = torch.device(\"cuda\" if torch.cuda.is_available() else \"cpu\")\n",
        "\n",
        "# Skip-Connected Autoencoder\n",
        "\n",
        "class SkipAutoencoder(nn.Module):\n",
        "    def __init__(self):\n",
        "        super(SkipAutoencoder, self).__init__()\n",
        "        # Encoder\n",
        "        self.enc1 = nn.Sequential(\n",
        "            nn.Conv2d(3, 64, 3, padding=1), nn.ReLU(inplace=True))\n",
        "        self.enc2 = nn.Sequential(\n",
        "            nn.Conv2d(64, 128, 3, stride=2, padding=1), nn.ReLU(inplace=True))  # 16x16\n",
        "        self.enc3 = nn.Sequential(\n",
        "            nn.Conv2d(128, 256, 3, stride=2, padding=1), nn.ReLU(inplace=True))  # 8x8\n",
        "\n",
        "        # Decoder\n",
        "        self.dec1 = nn.Sequential(\n",
        "            nn.ConvTranspose2d(256, 128, 4, stride=2, padding=1), nn.ReLU(inplace=True))  # 16x16\n",
        "        self.dec2 = nn.Sequential(\n",
        "            nn.ConvTranspose2d(256, 64, 4, stride=2, padding=1), nn.ReLU(inplace=True))  # 32x32\n",
        "        self.dec3 = nn.Sequential(\n",
        "            nn.Conv2d(128, 3, 3, padding=1), nn.Tanh())\n",
        "\n",
        "    def forward(self, x):\n",
        "        e1 = self.enc1(x)  # [B, 64, 32, 32]\n",
        "        e2 = self.enc2(e1) # [B, 128, 16, 16]\n",
        "        e3 = self.enc3(e2) # [B, 256, 8, 8]\n",
        "\n",
        "        d1 = self.dec1(e3)                # [B, 128, 16, 16]\n",
        "        d1_cat = torch.cat([d1, e2], 1)   # [B, 256, 16, 16]\n",
        "\n",
        "        d2 = self.dec2(d1_cat)           # [B, 64, 32, 32]\n",
        "        d2_cat = torch.cat([d2, e1], 1)  # [B, 128, 32, 32]\n",
        "\n",
        "        out = self.dec3(d2_cat)          # [B, 3, 32, 32]\n",
        "\n",
        "        return out, e3  # output and latent\n",
        "\n",
        "\n",
        "\n",
        "# Latent Compressor\n",
        "\n",
        "class LatentCompressor(nn.Module):\n",
        "    def __init__(self, input_channels=256):\n",
        "        super(LatentCompressor, self).__init__()\n",
        "        self.encoder = nn.Sequential(\n",
        "            nn.Conv2d(input_channels, 128, kernel_size=3, stride=2, padding=1),  # 8x8 → 4x4\n",
        "            nn.ReLU(),\n",
        "            nn.Conv2d(128, 64, kernel_size=3, stride=2, padding=1),              # 4x4 → 2x2\n",
        "            nn.ReLU(),\n",
        "        )\n",
        "        self.decoder = nn.Sequential(\n",
        "            nn.ConvTranspose2d(64, 128, kernel_size=4, stride=2, padding=1),     # 2x2 → 4x4\n",
        "            nn.ReLU(),\n",
        "            nn.ConvTranspose2d(128, 256, kernel_size=4, stride=2, padding=1),    # 4x4 → 8x8\n",
        "            nn.ReLU(),\n",
        "        )\n",
        "\n",
        "        # Final projection to match the latent shape exactly (in case of residual mismatch)\n",
        "        self.project = nn.Conv2d(256, input_channels, kernel_size=1)\n",
        "\n",
        "    def forward(self, x):\n",
        "        z = self.encoder(x)\n",
        "        out = self.decoder(z)\n",
        "        projected = self.project(out)\n",
        "        return projected\n",
        "\n",
        "\n",
        "# Data Preparation\n",
        "\n",
        "transform = transforms.Compose([\n",
        "    transforms.ToTensor(),\n",
        "    transforms.Normalize((0.5, 0.5, 0.5), (0.5, 0.5, 0.5))  # normalize to [-1,1]\n",
        "])\n",
        "\n",
        "trainset = datasets.CIFAR10(root='./data', train=True, download=True, transform=transform)\n",
        "testset = datasets.CIFAR10(root='./data', train=False, download=True, transform=transform)\n",
        "\n",
        "trainloader = DataLoader(trainset, batch_size=128, shuffle=True)\n",
        "testloader = DataLoader(testset, batch_size=16, shuffle=False)\n",
        "\n",
        "\n",
        "# Initialize Models\n",
        "\n",
        "autoencoder = SkipAutoencoder().to(device)\n",
        "latent_compressor = LatentCompressor().to(device)\n",
        "\n",
        "\n",
        "# Train Autoencoder First (optional: or load pretrained)\n",
        "\n",
        "ae_optimizer = optim.Adam(autoencoder.parameters(), lr=0.001)\n",
        "ae_criterion = nn.MSELoss()\n",
        "\n",
        "print(\"\\nTraining Autoencoder...\")\n",
        "autoencoder.train()\n",
        "for epoch in range(config.epochs_ae):\n",
        "    total_loss = 0.0\n",
        "    for imgs, _ in trainloader:\n",
        "        imgs = imgs.to(device)\n",
        "        ae_optimizer.zero_grad()\n",
        "        recon, _ = autoencoder(imgs)\n",
        "        loss = ae_criterion(recon, imgs)\n",
        "        loss.backward()\n",
        "        ae_optimizer.step()\n",
        "        total_loss += loss.item() * imgs.size(0)\n",
        "\n",
        "    avg_loss = total_loss / len(trainloader.dataset)\n",
        "    print(f\"Autoencoder Epoch [{epoch+1}/{config.epochs_ae}], Loss: {avg_loss:.6f}\")\n",
        "\n",
        "    #  Log to wandb\n",
        "    wandb.log({\n",
        "        \"train/ae_loss\": avg_loss,\n",
        "        \"epoch\": epoch + 1,\n",
        "        \"train/recon_sample\": [wandb.Image(recon[0].cpu(), caption=\"Reconstructed\"),\n",
        "                               wandb.Image(imgs[0].cpu(), caption=\"Original\")]\n",
        "    })\n",
        "\n"
      ]
    },
    {
      "cell_type": "code",
      "source": [
        "\n",
        "# Train Latent Compressor\n",
        "\n",
        "latent_compressor.train()\n",
        "comp_optimizer = optim.Adam(latent_compressor.parameters(), lr=0.001)\n",
        "comp_criterion = nn.MSELoss()\n",
        "\n",
        "print(\"\\nTraining Latent Compressor...\")\n",
        "latent_compressor.train()\n",
        "for epoch in range(config.epochs_comp):\n",
        "    total_loss = 0.0\n",
        "    for imgs, _ in trainloader:\n",
        "        imgs = imgs.to(device)\n",
        "        with torch.no_grad():\n",
        "            _, e3 = autoencoder(imgs)\n",
        "        comp_optimizer.zero_grad()\n",
        "        recon_e3 = latent_compressor(e3)\n",
        "        loss = comp_criterion(recon_e3, e3)\n",
        "        loss.backward()\n",
        "        comp_optimizer.step()\n",
        "        total_loss += loss.item() * imgs.size(0)\n",
        "\n",
        "    avg_loss = total_loss / len(trainloader.dataset)\n",
        "    print(f\"Compressor Epoch [{epoch+1}/{config.epochs_comp}], Loss: {avg_loss:.6f}\")\n",
        "\n",
        "    #  Log to wandb\n",
        "    wandb.log({\n",
        "        \"train/compressor_loss\": avg_loss,\n",
        "        \"epoch\": config.epochs_ae + epoch + 1\n",
        "    })\n",
        "\n"
      ],
      "metadata": {
        "colab": {
          "base_uri": "https://localhost:8080/"
        },
        "id": "ZesFmacJQJju",
        "outputId": "83851fb8-beb5-4a1e-d547-37942cbea7e9"
      },
      "execution_count": 2,
      "outputs": [
        {
          "output_type": "stream",
          "name": "stdout",
          "text": [
            "\n",
            "Training Latent Compressor...\n",
            "Compressor Epoch [1/10], Loss: 0.014842\n",
            "Compressor Epoch [2/10], Loss: 0.005836\n",
            "Compressor Epoch [3/10], Loss: 0.004126\n",
            "Compressor Epoch [4/10], Loss: 0.003448\n",
            "Compressor Epoch [5/10], Loss: 0.003079\n",
            "Compressor Epoch [6/10], Loss: 0.002818\n",
            "Compressor Epoch [7/10], Loss: 0.002561\n",
            "Compressor Epoch [8/10], Loss: 0.002397\n",
            "Compressor Epoch [9/10], Loss: 0.002253\n",
            "Compressor Epoch [10/10], Loss: 0.002133\n"
          ]
        }
      ]
    },
    {
      "cell_type": "code",
      "source": [
        "wandb.watch(autoencoder, log=\"all\", log_freq=100)\n",
        "wandb.watch(latent_compressor, log=\"all\", log_freq=100)\n"
      ],
      "metadata": {
        "id": "EPRFNAm7i0Xm"
      },
      "execution_count": 3,
      "outputs": []
    },
    {
      "cell_type": "code",
      "source": [
        "\n",
        "import time\n",
        "from torchvision.utils import save_image\n",
        "\n",
        "# Evaluation & Saving Images\n",
        "autoencoder.eval()\n",
        "latent_compressor.eval()\n",
        "\n",
        "with torch.no_grad():\n",
        "    imgs, _ = next(iter(testloader))\n",
        "    imgs = imgs.to(device)\n",
        "\n",
        "    # Original latent\n",
        "    e1 = autoencoder.enc1(imgs)\n",
        "    e2 = autoencoder.enc2(e1)\n",
        "    e3 = autoencoder.enc3(e2)\n",
        "\n",
        "    # --- Compression Time ---\n",
        "    start = time.time()\n",
        "    z = latent_compressor.encoder(e3)\n",
        "    comp_time = time.time() - start\n",
        "\n",
        "    # --- Decompression Time ---\n",
        "    start = time.time()\n",
        "    decoded_e3 = latent_compressor.decoder(z)\n",
        "    decomp_time = time.time() - start\n",
        "\n",
        "    print(f\"Compression time: {comp_time * 1000:.2f} ms\")\n",
        "    print(f\"Decompression time: {decomp_time * 1000:.2f} ms\")\n",
        "\n",
        "    # Decode full image using decoded_e3, e2, e1\n",
        "    d1 = autoencoder.dec1(decoded_e3)\n",
        "    d1_cat = torch.cat([d1, e2], 1)\n",
        "    d2 = autoencoder.dec2(d1_cat)\n",
        "    d2_cat = torch.cat([d2, e1], 1)\n",
        "    recon_from_compressed = autoencoder.dec3(d2_cat)\n",
        "\n",
        "    # Save all images\n",
        "    save_image(imgs * 0.5 + 0.5, \"output_images/original.png\")\n",
        "    recon_img, _ = autoencoder(imgs)\n",
        "    save_image(recon_img * 0.5 + 0.5, \"output_images/reconstructed.png\")\n",
        "    save_image(recon_from_compressed * 0.5 + 0.5, \"output_images/recon_from_compressed.png\")\n",
        "\n",
        "    # Size info\n",
        "    original_size = e3.nelement() * 4  # bytes\n",
        "    compressed_size = z.nelement() * 4  # bytes\n",
        "    print(f\"Original e3 size: {original_size / 1024:.2f} KB\")\n",
        "    print(f\"Compressed z size: {compressed_size / 1024:.2f} KB\")\n",
        "\n",
        "    print(\"Saved original, reconstructed, and compressed recon images.\")\n"
      ],
      "metadata": {
        "colab": {
          "base_uri": "https://localhost:8080/"
        },
        "id": "VsxT20L7QMSH",
        "outputId": "5504ef53-0a04-469f-af1a-f13e34488f02"
      },
      "execution_count": 4,
      "outputs": [
        {
          "output_type": "stream",
          "name": "stdout",
          "text": [
            "Compression time: 1.96 ms\n",
            "Decompression time: 0.54 ms\n",
            "Original e3 size: 1024.00 KB\n",
            "Compressed z size: 16.00 KB\n",
            "Saved original, reconstructed, and compressed recon images.\n"
          ]
        }
      ]
    },
    {
      "cell_type": "code",
      "source": [
        "import torch.nn.functional as F\n",
        "import wandb\n",
        "import numpy as np\n",
        "from torchvision.utils import make_grid, save_image\n",
        "from skimage.metrics import structural_similarity as ssim\n",
        "import time\n",
        "\n",
        "# PSNR helper\n",
        "def psnr(img1, img2):\n",
        "    mse = F.mse_loss(img1, img2)\n",
        "    if mse == 0:\n",
        "        return float('inf')\n",
        "    return 20 * torch.log10(2.0 / torch.sqrt(mse))  # inputs normalized to [-1, 1]\n",
        "\n",
        "# Evaluation\n",
        "autoencoder.eval()\n",
        "latent_compressor.eval()\n",
        "\n",
        "with torch.no_grad():\n",
        "    imgs, _ = next(iter(testloader))\n",
        "    imgs = imgs.to(device)\n",
        "\n",
        "    # Encode original image\n",
        "    e1 = autoencoder.enc1(imgs)\n",
        "    e2 = autoencoder.enc2(e1)\n",
        "    e3 = autoencoder.enc3(e2)\n",
        "\n",
        "    #  Compression Time\n",
        "    start = time.time()\n",
        "    z = latent_compressor.encoder(e3)\n",
        "    comp_time = time.time() - start\n",
        "\n",
        "    #  Decompression Time\n",
        "    start = time.time()\n",
        "    decoded_e3 = latent_compressor.decoder(z)\n",
        "    decomp_time = time.time() - start\n",
        "\n",
        "    # Decode image from compressed latent\n",
        "    d1 = autoencoder.dec1(decoded_e3)\n",
        "    d1_cat = torch.cat([d1, e2], 1)\n",
        "    d2 = autoencoder.dec2(d1_cat)\n",
        "    d2_cat = torch.cat([d2, e1], 1)\n",
        "    recon_from_compressed = autoencoder.dec3(d2_cat)\n",
        "\n",
        "    # AE reconstruction (not compressed)\n",
        "    recon_img, _ = autoencoder(imgs)\n",
        "\n",
        "    # SSIM Calculation\n",
        "    original_np = imgs[0].permute(1, 2, 0).cpu().numpy()\n",
        "    recon_np = recon_from_compressed[0].permute(1, 2, 0).cpu().numpy()\n",
        "    original_np = (original_np + 1) / 2\n",
        "    recon_np = (recon_np + 1) / 2\n",
        "    ssim_val = np.mean([\n",
        "        ssim(original_np[:, :, c], recon_np[:, :, c], data_range=1.0)\n",
        "        for c in range(3)\n",
        "    ])\n",
        "\n",
        "    # Save reconstructions\n",
        "    save_image(imgs * 0.5 + 0.5, \"output_images/original.png\")\n",
        "    save_image(recon_img * 0.5 + 0.5, \"output_images/reconstructed.png\")\n",
        "    save_image(recon_from_compressed * 0.5 + 0.5, \"output_images/recon_from_compressed.png\")\n",
        "\n",
        "    # PSNRs\n",
        "    psnr_recon = psnr(recon_img, imgs)\n",
        "    psnr_compressed = psnr(recon_from_compressed, imgs)\n",
        "\n",
        "    # Size info\n",
        "    original_size_kb = e3.nelement() * 4 / 1024\n",
        "    compressed_size_kb = z.nelement() * 4 / 1024\n",
        "    total_pixels = imgs.shape[2] * imgs.shape[3] * imgs.shape[1]\n",
        "    bpp = (z.nelement() * 32) / total_pixels  # float32 is 32 bits\n",
        "\n",
        "    # Error map\n",
        "    error_map = torch.abs(imgs - recon_from_compressed)\n",
        "    grid = make_grid(error_map * 5.0, nrow=4, normalize=True)\n",
        "\n",
        "    # wandb logging\n",
        "    wandb.log({\n",
        "        \"eval/ssim\": ssim_val,\n",
        "        \"eval/bpp\": bpp,\n",
        "        \"eval/compression_time_ms\": comp_time * 1000,\n",
        "        \"eval/decompression_time_ms\": decomp_time * 1000,\n",
        "        \"eval/psnr_reconstruction\": psnr_recon,\n",
        "        \"eval/psnr_compressed\": psnr_compressed,\n",
        "        \"eval/compression_ratio\": original_size_kb / compressed_size_kb,\n",
        "        \"eval/original_vs_recon\": [\n",
        "            wandb.Image(imgs[0] * 0.5 + 0.5, caption=\"Original\"),\n",
        "            wandb.Image(recon_img[0] * 0.5 + 0.5, caption=\"Recon (AE)\"),\n",
        "            wandb.Image(recon_from_compressed[0] * 0.5 + 0.5, caption=\"Recon (Compressed)\")\n",
        "        ],\n",
        "        \"eval/error_map\": wandb.Image(grid, caption=\"|Original - CompressedRecon| x5\"),\n",
        "        \"eval/original_latent_size_kb\": original_size_kb,\n",
        "        \"eval/compressed_latent_size_kb\": compressed_size_kb,\n",
        "      \"eval/rate_distortion_point\": wandb.plot.scatter(\n",
        "    wandb.Table(data=[[compressed_size_kb, psnr_compressed]], columns=[\"Compressed Size (KB)\", \"PSNR\"]),\n",
        "    \"Compressed Size (KB)\",\n",
        "    \"PSNR\",\n",
        "    title=\"Rate-Distortion\"\n",
        ")\n",
        "\n",
        "    })\n",
        "\n",
        "    print(f\"SSIM: {ssim_val:.4f}\")\n",
        "    print(f\"PSNR (reconstructed): {psnr_recon:.2f}\")\n",
        "    print(f\"PSNR (compressed recon): {psnr_compressed:.2f}\")\n",
        "    print(f\"BPP: {bpp:.4f}\")\n",
        "    print(f\"Original latent size: {original_size_kb:.2f} KB\")\n",
        "    print(f\"Compressed latent size: {compressed_size_kb:.2f} KB\")\n",
        "    print(f\"Compression time: {comp_time * 1000:.2f} ms\")\n",
        "    print(f\"Decompression time: {decomp_time * 1000:.2f} ms\")\n",
        "\n"
      ],
      "metadata": {
        "id": "L1uoz6PMk3nH",
        "colab": {
          "base_uri": "https://localhost:8080/"
        },
        "outputId": "11fc5b88-ec76-4607-bf44-ccbb0419c370"
      },
      "execution_count": 5,
      "outputs": [
        {
          "output_type": "stream",
          "name": "stdout",
          "text": [
            "SSIM: 0.9752\n",
            "PSNR (reconstructed): 43.23\n",
            "PSNR (compressed recon): 29.79\n",
            "BPP: 42.6667\n",
            "Original latent size: 1024.00 KB\n",
            "Compressed latent size: 16.00 KB\n",
            "Compression time: 0.22 ms\n",
            "Decompression time: 0.64 ms\n"
          ]
        }
      ]
    },
    {
      "cell_type": "code",
      "source": [
        "import numpy as np\n",
        "\n",
        "# Quantization Function\n",
        "class QuantizeSTE(torch.autograd.Function):\n",
        "    @staticmethod\n",
        "    def forward(ctx, input):\n",
        "        return torch.round(input)\n",
        "\n",
        "    @staticmethod\n",
        "    def backward(ctx, grad_output):\n",
        "        return grad_output\n",
        "\n",
        "def quantize(input):\n",
        "    return QuantizeSTE.apply(input)\n",
        "\n",
        "# Evaluation & Compression Pipeline\n",
        "\n",
        "autoencoder.eval()\n",
        "latent_compressor.eval()\n",
        "\n",
        "with torch.no_grad():\n",
        "    imgs, _ = next(iter(testloader))\n",
        "    imgs = imgs.to(device)\n",
        "\n",
        "    # Get latent representations\n",
        "    e1 = autoencoder.enc1(imgs)\n",
        "    e2 = autoencoder.enc2(e1)\n",
        "    e3 = autoencoder.enc3(e2)\n",
        "\n",
        "    # Compress e3 to z\n",
        "    z = latent_compressor.encoder(e3)\n",
        "    print(f\"Compressed shape (before quantization): {z.shape}\")\n",
        "\n",
        "    # Apply quantization\n",
        "    z_quant = quantize(z)\n",
        "\n",
        "    # Save to binary\n",
        "    z_quant_int = torch.clamp(torch.round(z_quant * 127), -128, 127).to(torch.int8)\n",
        "    z_np = z_quant_int.cpu().numpy()\n",
        "    os.makedirs(\"output_images\", exist_ok=True)\n",
        "    z_np.tofile(\"output_images/compressed_latent.bin\")\n",
        "\n",
        "    quantized_size = os.path.getsize(\"output_images/compressed_latent.bin\") / 1024\n",
        "    print(f\"Quantized latent saved as binary file (Size: {quantized_size:.2f} KB)\")\n",
        "\n",
        "\n",
        "import zlib\n",
        "\n",
        "# Zlib Entropy Coding\n",
        "z_bytes = z_np.tobytes()\n",
        "zlib_compressed = zlib.compress(z_bytes, level=9)\n",
        "\n",
        "# Save to file\n",
        "with open(\"output_images/compressed_latent_zlib.bin\", \"wb\") as f:\n",
        "    f.write(zlib_compressed)\n",
        "\n",
        "# Report size\n",
        "zlib_size_kb = len(zlib_compressed) / 1024\n",
        "print(f\"Zlib-compressed latent size: {zlib_size_kb:.2f} KB\")\n",
        "\n",
        "# Optional: Decode from Zlib for verification\n",
        "with open(\"output_images/compressed_latent_zlib.bin\", \"rb\") as f:\n",
        "    zlib_loaded = f.read()\n",
        "\n",
        "decompressed_bytes = zlib.decompress(zlib_loaded)\n",
        "decompressed_np = np.frombuffer(decompressed_bytes, dtype=np.int8)\n",
        "decompressed_tensor = torch.from_numpy(decompressed_np).float() / 127\n",
        "decompressed_tensor = decompressed_tensor.view_as(z).to(device)\n",
        "\n",
        "recon_ae, _ = autoencoder(imgs)\n",
        "\n",
        "# Decode and save image from zlib-compressed\n",
        "decoded_e3_zlib = latent_compressor.decoder(decompressed_tensor)\n",
        "d1_zlib = autoencoder.dec1(decoded_e3_zlib)\n",
        "d1_cat_zlib = torch.cat([d1_zlib, e2], 1)\n",
        "d2_zlib = autoencoder.dec2(d1_cat_zlib)\n",
        "d2_cat_zlib = torch.cat([d2_zlib, e1], 1)\n",
        "recon_zlib = autoencoder.dec3(d2_cat_zlib)\n",
        "save_image(recon_zlib * 0.5 + 0.5, \"output_images/recon_from_zlib.png\")\n",
        "# Zlib Part ends here\n",
        "print(\"Saved reconstruction from zlib-compressed latent.\")\n",
        "\n",
        "# Load from binary and decompress\n",
        "loaded_np = np.fromfile(\"output_images/compressed_latent.bin\", dtype=np.int8)\n",
        "loaded_tensor = torch.from_numpy(loaded_np).float() / 127  # Rescale to [-1, 1]\n",
        "loaded_tensor = loaded_tensor.view_as(z).to(device)\n",
        "\n",
        "decoded_e3 = latent_compressor.decoder(loaded_tensor)\n",
        "\n",
        "# Final decoding pipeline\n",
        "d1 = autoencoder.dec1(decoded_e3)\n",
        "d1_cat = torch.cat([d1, e2], 1)\n",
        "d2 = autoencoder.dec2(d1_cat)\n",
        "d2_cat = torch.cat([d2, e1], 1)\n",
        "recon_from_bin = autoencoder.dec3(d2_cat)\n",
        "\n",
        "# Save all images\n",
        "save_image(imgs * 0.5 + 0.5, \"output_images/original.png\")\n",
        "recon_img, _ = autoencoder(imgs)\n",
        "save_image(recon_img * 0.5 + 0.5, \"output_images/reconstructed.png\")\n",
        "save_image(recon_from_bin * 0.5 + 0.5, \"output_images/recon_from_loaded_compressed.png\")\n",
        "\n",
        "# Size info\n",
        "original_size = e3.nelement() * 4  # float32\n",
        "compressed_size = z.nelement() * 4\n",
        "print(f\"Original e3 size: {original_size / 1024:.2f} KB\")\n",
        "print(f\"Compressed z (float32) size: {compressed_size / 1024:.2f} KB\")\n",
        "\n"
      ],
      "metadata": {
        "id": "dBwQqHOPpl-f",
        "outputId": "449fb516-f7de-4e4f-eecb-600b38cba1b0",
        "colab": {
          "base_uri": "https://localhost:8080/"
        }
      },
      "execution_count": 6,
      "outputs": [
        {
          "output_type": "stream",
          "name": "stdout",
          "text": [
            "Compressed shape (before quantization): torch.Size([16, 64, 2, 2])\n",
            "Quantized latent saved as binary file (Size: 4.00 KB)\n",
            "Zlib-compressed latent size: 0.20 KB\n",
            "Saved reconstruction from zlib-compressed latent.\n",
            "Original e3 size: 1024.00 KB\n",
            "Compressed z (float32) size: 16.00 KB\n"
          ]
        },
        {
          "output_type": "stream",
          "name": "stderr",
          "text": [
            "<ipython-input-6-53d376c7a65c>:67: UserWarning: The given NumPy array is not writable, and PyTorch does not support non-writable tensors. This means writing to this tensor will result in undefined behavior. You may want to copy the array to protect its data or make it writable before converting it to a tensor. This type of warning will be suppressed for the rest of this program. (Triggered internally at /pytorch/torch/csrc/utils/tensor_numpy.cpp:203.)\n",
            "  decompressed_tensor = torch.from_numpy(decompressed_np).float() / 127\n"
          ]
        }
      ]
    },
    {
      "cell_type": "code",
      "source": [
        "# Simple quantization by scaling and rounding\n",
        "z_quantized = torch.round(z * 127)  # Scale latent values roughly to int8 range [-127, 127]\n",
        "z_quantized = z_quantized.to(torch.int8)  # Convert tensor to int8 type for smaller size\n"
      ],
      "metadata": {
        "id": "OKUikh8wUn4s"
      },
      "execution_count": 7,
      "outputs": []
    },
    {
      "cell_type": "code",
      "source": [
        "# Convert to NumPy array on CPU and save as raw binary file\n",
        "z_np = z_quantized.cpu().numpy()\n",
        "os.makedirs(\"output_images\", exist_ok=True)  # Make sure output folder exists\n",
        "z_np.tofile(\"output_images/compressed_latent.bin\")\n",
        "\n",
        "print(\"Quantized latent saved as binary file: output_images/compressed_latent.bin\")\n"
      ],
      "metadata": {
        "colab": {
          "base_uri": "https://localhost:8080/"
        },
        "id": "ytBh5tUAZhKH",
        "outputId": "a8d482cd-21b1-4348-de7a-509d98d8df01"
      },
      "execution_count": 8,
      "outputs": [
        {
          "output_type": "stream",
          "name": "stdout",
          "text": [
            "Quantized latent saved as binary file: output_images/compressed_latent.bin\n"
          ]
        }
      ]
    },
    {
      "cell_type": "code",
      "source": [
        "# Calculate and print size of quantized latent in KB\n",
        "quantized_size = os.path.getsize(\"output_images/compressed_latent.bin\") / 1024\n",
        "print(f\"Quantized latent binary size: {quantized_size:.2f} KB\")\n"
      ],
      "metadata": {
        "colab": {
          "base_uri": "https://localhost:8080/"
        },
        "id": "b2dGOhmdZle0",
        "outputId": "c2119bc8-37f0-4b7f-e212-b6d72a3a193d"
      },
      "execution_count": 9,
      "outputs": [
        {
          "output_type": "stream",
          "name": "stdout",
          "text": [
            "Quantized latent binary size: 4.00 KB\n"
          ]
        }
      ]
    },
    {
      "cell_type": "code",
      "source": [
        "# Load quantized latent from binary file\n",
        "loaded_np = np.fromfile(\"output_images/compressed_latent.bin\", dtype=np.int8)\n",
        "loaded_tensor = torch.from_numpy(loaded_np).float() / 127  # Scale back to approx original range\n",
        "\n",
        "# Reshape to latent tensor shape (same as z)\n",
        "loaded_tensor = loaded_tensor.view_as(z).to(device)\n",
        "\n",
        "# Decode latent as usual\n",
        "with torch.no_grad():\n",
        "    decoded_e3_loaded = latent_compressor.decoder(loaded_tensor)\n",
        "\n",
        "    d1_loaded = autoencoder.dec1(decoded_e3_loaded)\n",
        "    d1_cat_loaded = torch.cat([d1_loaded, e2], 1)\n",
        "    d2_loaded = autoencoder.dec2(d1_cat_loaded)\n",
        "    d2_cat_loaded = torch.cat([d2_loaded, e1], 1)\n",
        "    recon_loaded = autoencoder.dec3(d2_cat_loaded)\n",
        "\n",
        "    save_image(recon_loaded * 0.5 + 0.5, \"output_images/recon_from_loaded_compressed.png\")\n",
        "    print(\"Saved reconstructed image from loaded compressed latent.\")\n"
      ],
      "metadata": {
        "colab": {
          "base_uri": "https://localhost:8080/"
        },
        "id": "DuieXPZBZoaZ",
        "outputId": "c4001bf8-86a5-471b-c3a2-edfd3c428702"
      },
      "execution_count": 10,
      "outputs": [
        {
          "output_type": "stream",
          "name": "stdout",
          "text": [
            "Saved reconstructed image from loaded compressed latent.\n"
          ]
        }
      ]
    },
    {
      "cell_type": "code",
      "source": [
        "import torch.nn.functional as F\n",
        "import math\n",
        "\n",
        "def calculate_psnr(img1, img2):\n",
        "    mse = F.mse_loss(img1, img2)\n",
        "    if mse == 0:\n",
        "        return float('inf')\n",
        "    psnr = 20 * math.log10(1.0) - 10 * math.log10(mse.item())\n",
        "    return psnr\n",
        "\n",
        "# === Evaluation with Metrics ===\n",
        "autoencoder.eval()\n",
        "latent_compressor.eval()\n",
        "\n",
        "with torch.no_grad():\n",
        "    imgs, _ = next(iter(testloader))\n",
        "    imgs = imgs.to(device)\n",
        "\n",
        "    # Original encoding\n",
        "    e1 = autoencoder.enc1(imgs)\n",
        "    e2 = autoencoder.enc2(e1)\n",
        "    e3 = autoencoder.enc3(e2)\n",
        "\n",
        "    # Latent compression\n",
        "    z = latent_compressor.encoder(e3)\n",
        "    z_quant = quantize(z)\n",
        "    z_int8 = torch.clamp(torch.round(z_quant * 127), -128, 127).to(torch.int8)\n",
        "    z_np = z_int8.cpu().numpy()\n",
        "\n",
        "    # Save zlib compressed version\n",
        "    import zlib\n",
        "    z_bytes = z_np.tobytes()\n",
        "    zlib_compressed = zlib.compress(z_bytes, level=9)\n",
        "\n",
        "    # Decompress for reconstruction\n",
        "    decompressed_bytes = zlib.decompress(zlib_compressed)\n",
        "    decompressed_np = np.frombuffer(decompressed_bytes, dtype=np.int8)\n",
        "    decompressed_tensor = torch.from_numpy(decompressed_np.copy()).float() / 127\n",
        "    decompressed_tensor = decompressed_tensor.view_as(z).to(device)\n",
        "\n",
        "    # Decode\n",
        "    decoded_e3 = latent_compressor.decoder(decompressed_tensor)\n",
        "    d1 = autoencoder.dec1(decoded_e3)\n",
        "    d1_cat = torch.cat([d1, e2], 1)\n",
        "    d2 = autoencoder.dec2(d1_cat)\n",
        "    d2_cat = torch.cat([d2, e1], 1)\n",
        "    recon_zlib = autoencoder.dec3(d2_cat)\n",
        "\n",
        "    # PSNR\n",
        "    psnr_recon = calculate_psnr(imgs, recon_zlib)\n",
        "    print(f\"PSNR (reconstruction from zlib compressed latent): {psnr_recon:.2f} dB\")\n",
        "\n",
        "    # Sizes\n",
        "    original_e3_size_kb = e3.nelement() * 4 / 1024  # float32\n",
        "    compressed_z_kb = z.nelement() * 4 / 1024       # float32\n",
        "    quantized_z_kb = z_int8.nelement() / 1024       # int8\n",
        "    zlib_kb = len(zlib_compressed) / 1024\n",
        "\n",
        "    # Compression ratio\n",
        "    ratio = original_e3_size_kb / zlib_kb\n",
        "\n",
        "    print(f\"Original latent size: {original_e3_size_kb:.2f} KB\")\n",
        "    print(f\"Compressed (z float32): {compressed_z_kb:.2f} KB\")\n",
        "    print(f\"Quantized (int8): {quantized_z_kb:.2f} KB\")\n",
        "    print(f\"Zlib compressed size: {zlib_kb:.2f} KB\")\n",
        "    print(f\"Effective compression ratio: {ratio:.2f}x\")\n"
      ],
      "metadata": {
        "id": "-TLdHGvSueKM",
        "outputId": "20cd8cc0-9381-411e-96cf-036d1dfbf45b",
        "colab": {
          "base_uri": "https://localhost:8080/"
        }
      },
      "execution_count": 11,
      "outputs": [
        {
          "output_type": "stream",
          "name": "stdout",
          "text": [
            "PSNR (reconstruction from zlib compressed latent): 28.11 dB\n",
            "Original latent size: 1024.00 KB\n",
            "Compressed (z float32): 16.00 KB\n",
            "Quantized (int8): 4.00 KB\n",
            "Zlib compressed size: 0.20 KB\n",
            "Effective compression ratio: 5242.88x\n"
          ]
        }
      ]
    },
    {
      "cell_type": "code",
      "source": [
        "from torchvision.utils import make_grid, save_image\n",
        "\n",
        "with torch.no_grad():\n",
        "    recon_ae, _ = autoencoder(imgs)  # recon_ae shape: [16, 3, 32, 32]\n",
        "    recon_ae = recon_ae * 0.5 + 0.5\n",
        "    recon_zlib = recon_zlib * 0.5 + 0.5\n",
        "    imgs_vis = imgs * 0.5 + 0.5\n",
        "\n",
        "image_grid = make_grid(\n",
        "    torch.cat([imgs_vis, recon_ae, recon_zlib], dim=0),\n",
        "    nrow=imgs.size(0),\n",
        "    padding=2\n",
        ")\n",
        "save_image(image_grid, \"output_images/comparison_grid.png\")\n",
        "\n"
      ],
      "metadata": {
        "id": "eSGRTP-TxldY"
      },
      "execution_count": 12,
      "outputs": []
    },
    {
      "cell_type": "code",
      "source": [
        "import matplotlib.pyplot as plt\n",
        "import numpy as np\n",
        "\n",
        "error_map = torch.abs(imgs_vis - recon_zlib).mean(dim=1, keepdim=True)\n",
        "save_image(error_map, \"output_images/error_map.png\")\n"
      ],
      "metadata": {
        "id": "8QEfSuJpzUfB"
      },
      "execution_count": 13,
      "outputs": []
    },
    {
      "cell_type": "code",
      "source": [
        "import torch\n",
        "from torchvision.utils import save_image, make_grid\n",
        "import matplotlib.pyplot as plt\n",
        "\n",
        "# Calculate absolute error map (grayscale)\n",
        "error_map = torch.abs(imgs_vis - recon_zlib).mean(dim=1, keepdim=True)  # [B,1,H,W]\n",
        "\n",
        "# Save error map images grid\n",
        "save_image(error_map, \"output_images/error_map.png\")\n",
        "print(\"Saved error map image.\")\n",
        "\n",
        "# Display error map grid using matplotlib\n",
        "grid_img = make_grid(error_map, nrow=4, normalize=True)  # Normalize for better visibility\n",
        "\n",
        "plt.figure(figsize=(8, 8))\n",
        "plt.imshow(grid_img.permute(1, 2, 0).cpu(), cmap='gray')\n",
        "plt.axis('off')\n",
        "plt.title(\"Error Map Grid (Absolute Difference)\")\n",
        "plt.show()\n"
      ],
      "metadata": {
        "id": "UJZBdR8O0ACJ",
        "outputId": "25e462ba-8d35-4e82-f099-f049531bf453",
        "colab": {
          "base_uri": "https://localhost:8080/",
          "height": 692
        }
      },
      "execution_count": 14,
      "outputs": [
        {
          "output_type": "stream",
          "name": "stdout",
          "text": [
            "Saved error map image.\n"
          ]
        },
        {
          "output_type": "display_data",
          "data": {
            "text/plain": [
              "<Figure size 800x800 with 1 Axes>"
            ],
            "image/png": "[encoded data removed]"
          },
          "metadata": {}
        }
      ]
    },
    {
      "cell_type": "code",
      "source": [
        "wandb.log({\n",
        "    \"eval/rate_distortion_point\": wandb.plot.scatter(\n",
        "        wandb.Table(data=[[compressed_size_kb, -psnr_compressed]], columns=[\"Compressed Size (KB)\", \"-PSNR\"]),\n",
        "        \"Compressed Size (KB)\",\n",
        "        \"-PSNR\",\n",
        "        title=\"Rate-Distortion Curve (Negative PSNR)\"\n",
        "    )\n",
        "})\n",
        "\n"
      ],
      "metadata": {
        "id": "BoAzwaYvS-CZ"
      },
      "execution_count": 15,
      "outputs": []
    },
    {
      "cell_type": "code",
      "source": [
        "wandb.log({\n",
        "    \"compression/psnr\": psnr_compressed.item(),\n",
        "    \"compression/size_kb\": compressed_size_kb,\n",
        "    \"compression/error_map\": wandb.Image(grid, caption=\"|Original - CompressedRecon| x5\")\n",
        "})\n"
      ],
      "metadata": {
        "id": "ClGmSFhJi-Bk"
      },
      "execution_count": 16,
      "outputs": []
    },
    {
      "cell_type": "code",
      "source": [
        "import wandb\n",
        "!pip install pytorch-msssim\n",
        "\n",
        "from pytorch_msssim import ssim\n",
        "\n",
        "#  Compute SSIM\n",
        "ssim_val = ssim(imgs, recon_zlib, data_range=1.0, size_average=True)\n",
        "\n",
        "# Compute bits per pixel (bpp)\n",
        "batch_size, _, H, W = imgs.shape\n",
        "bpp = (len(zlib_compressed) * 8) / (batch_size * H * W)\n",
        "\n",
        "#  Log everything to Weights & Biases\n",
        "wandb.log({\n",
        "    \"metrics/psnr_zlib\": psnr_recon,\n",
        "    \"metrics/ssim_zlib\": ssim_val.item(),\n",
        "    \"compression/zlib_size_kb\": zlib_kb,\n",
        "    \"compression/quantized_size_kb\": quantized_z_kb,\n",
        "    \"compression/float_z_size_kb\": compressed_z_kb,\n",
        "    \"compression/original_e3_size_kb\": original_e3_size_kb,\n",
        "    \"compression/effective_bpp\": bpp,\n",
        "    \"compression/compression_ratio\": original_e3_size_kb / zlib_kb,\n",
        "    \"visuals/reconstruction_error_map\": wandb.Image(\n",
        "        grid_img, caption=\"|Original - Reconstructed (zlib)|\"\n",
        "    ),\n",
        "    \"rate_distortion/zlib_point\": wandb.plot.scatter(\n",
        "        wandb.Table(data=[[bpp, psnr_recon]], columns=[\"bpp\", \"PSNR\"]),\n",
        "        \"bpp\", \"PSNR\", title=\"Rate-Distortion Point\"\n",
        "    )\n",
        "})\n",
        "\n",
        "# Optional: Save all values for MS Word table later\n",
        "import pandas as pd\n",
        "metrics = {\n",
        "    \"PSNR (dB)\": psnr_recon,\n",
        "    \"SSIM\": ssim_val.item(),\n",
        "    \"Original Size (KB)\": original_e3_size_kb,\n",
        "    \"Compressed z (KB)\": compressed_z_kb,\n",
        "    \"Quantized z (KB)\": quantized_z_kb,\n",
        "    \"Zlib Size (KB)\": zlib_kb,\n",
        "    \"BPP\": bpp,\n",
        "    \"Compression Ratio\": original_e3_size_kb / zlib_kb\n",
        "}\n",
        "pd.DataFrame([metrics]).to_csv(\"output_images/results_metrics.csv\", index=False)\n"
      ],
      "metadata": {
        "id": "6DYsi1Vai4gN",
        "colab": {
          "base_uri": "https://localhost:8080/"
        },
        "outputId": "da246030-e5c9-4ca4-a614-fdb75e7dc9f0"
      },
      "execution_count": 20,
      "outputs": [
        {
          "output_type": "stream",
          "name": "stdout",
          "text": [
            "Requirement already satisfied: pytorch-msssim in /usr/local/lib/python3.11/dist-packages (1.0.0)\n",
            "Requirement already satisfied: torch in /usr/local/lib/python3.11/dist-packages (from pytorch-msssim) (2.6.0+cu124)\n",
            "Requirement already satisfied: filelock in /usr/local/lib/python3.11/dist-packages (from torch->pytorch-msssim) (3.18.0)\n",
            "Requirement already satisfied: typing-extensions>=4.10.0 in /usr/local/lib/python3.11/dist-packages (from torch->pytorch-msssim) (4.14.0)\n",
            "Requirement already satisfied: networkx in /usr/local/lib/python3.11/dist-packages (from torch->pytorch-msssim) (3.5)\n",
            "Requirement already satisfied: jinja2 in /usr/local/lib/python3.11/dist-packages (from torch->pytorch-msssim) (3.1.6)\n",
            "Requirement already satisfied: fsspec in /usr/local/lib/python3.11/dist-packages (from torch->pytorch-msssim) (2025.3.2)\n",
            "Requirement already satisfied: nvidia-cuda-nvrtc-cu12==12.4.127 in /usr/local/lib/python3.11/dist-packages (from torch->pytorch-msssim) (12.4.127)\n",
            "Requirement already satisfied: nvidia-cuda-runtime-cu12==12.4.127 in /usr/local/lib/python3.11/dist-packages (from torch->pytorch-msssim) (12.4.127)\n",
            "Requirement already satisfied: nvidia-cuda-cupti-cu12==12.4.127 in /usr/local/lib/python3.11/dist-packages (from torch->pytorch-msssim) (12.4.127)\n",
            "Requirement already satisfied: nvidia-cudnn-cu12==9.1.0.70 in /usr/local/lib/python3.11/dist-packages (from torch->pytorch-msssim) (9.1.0.70)\n",
            "Requirement already satisfied: nvidia-cublas-cu12==12.4.5.8 in /usr/local/lib/python3.11/dist-packages (from torch->pytorch-msssim) (12.4.5.8)\n",
            "Requirement already satisfied: nvidia-cufft-cu12==11.2.1.3 in /usr/local/lib/python3.11/dist-packages (from torch->pytorch-msssim) (11.2.1.3)\n",
            "Requirement already satisfied: nvidia-curand-cu12==10.3.5.147 in /usr/local/lib/python3.11/dist-packages (from torch->pytorch-msssim) (10.3.5.147)\n",
            "Requirement already satisfied: nvidia-cusolver-cu12==11.6.1.9 in /usr/local/lib/python3.11/dist-packages (from torch->pytorch-msssim) (11.6.1.9)\n",
            "Requirement already satisfied: nvidia-cusparse-cu12==12.3.1.170 in /usr/local/lib/python3.11/dist-packages (from torch->pytorch-msssim) (12.3.1.170)\n",
            "Requirement already satisfied: nvidia-cusparselt-cu12==0.6.2 in /usr/local/lib/python3.11/dist-packages (from torch->pytorch-msssim) (0.6.2)\n",
            "Requirement already satisfied: nvidia-nccl-cu12==2.21.5 in /usr/local/lib/python3.11/dist-packages (from torch->pytorch-msssim) (2.21.5)\n",
            "Requirement already satisfied: nvidia-nvtx-cu12==12.4.127 in /usr/local/lib/python3.11/dist-packages (from torch->pytorch-msssim) (12.4.127)\n",
            "Requirement already satisfied: nvidia-nvjitlink-cu12==12.4.127 in /usr/local/lib/python3.11/dist-packages (from torch->pytorch-msssim) (12.4.127)\n",
            "Requirement already satisfied: triton==3.2.0 in /usr/local/lib/python3.11/dist-packages (from torch->pytorch-msssim) (3.2.0)\n",
            "Requirement already satisfied: sympy==1.13.1 in /usr/local/lib/python3.11/dist-packages (from torch->pytorch-msssim) (1.13.1)\n",
            "Requirement already satisfied: mpmath<1.4,>=1.1.0 in /usr/local/lib/python3.11/dist-packages (from sympy==1.13.1->torch->pytorch-msssim) (1.3.0)\n",
            "Requirement already satisfied: MarkupSafe>=2.0 in /usr/local/lib/python3.11/dist-packages (from jinja2->torch->pytorch-msssim) (3.0.2)\n"
          ]
        }
      ]
    },
    {
      "cell_type": "code",
      "source": [
        "import shutil\n",
        "from google.colab import files\n",
        "\n",
        "# Zip the folder\n",
        "shutil.make_archive(\"output_images\", 'zip', \"output_images\")\n",
        "\n",
        "# Download the zip file\n",
        "files.download(\"output_images.zip\")"
      ],
      "metadata": {
        "id": "ZG3E15yTmwHl",
        "outputId": "637a8fba-6d96-427e-8193-90f8898c6be0",
        "colab": {
          "base_uri": "https://localhost:8080/",
          "height": 17
        }
      },
      "execution_count": 21,
      "outputs": [
        {
          "output_type": "display_data",
          "data": {
            "text/plain": [
              "<IPython.core.display.Javascript object>"
            ],
            "application/javascript": [
              "\n",
              "    async function download(id, filename, size) {\n",
              "      if (!google.colab.kernel.accessAllowed) {\n",
              "        return;\n",
              "      }\n",
              "      const div = document.createElement('div');\n",
              "      const label = document.createElement('label');\n",
              "      label.textContent = `Downloading \"${filename}\": `;\n",
              "      div.appendChild(label);\n",
              "      const progress = document.createElement('progress');\n",
              "      progress.max = size;\n",
              "      div.appendChild(progress);\n",
              "      document.body.appendChild(div);\n",
              "\n",
              "      const buffers = [];\n",
              "      let downloaded = 0;\n",
              "\n",
              "      const channel = await google.colab.kernel.comms.open(id);\n",
              "      // Send a message to notify the kernel that we're ready.\n",
              "      channel.send({})\n",
              "\n",
              "      for await (const message of channel.messages) {\n",
              "        // Send a message to notify the kernel that we're ready.\n",
              "        channel.send({})\n",
              "        if (message.buffers) {\n",
              "          for (const buffer of message.buffers) {\n",
              "            buffers.push(buffer);\n",
              "            downloaded += buffer.byteLength;\n",
              "            progress.value = downloaded;\n",
              "          }\n",
              "        }\n",
              "      }\n",
              "      const blob = new Blob(buffers, {type: 'application/binary'});\n",
              "      const a = document.createElement('a');\n",
              "      a.href = window.URL.createObjectURL(blob);\n",
              "      a.download = filename;\n",
              "      div.appendChild(a);\n",
              "      a.click();\n",
              "      div.remove();\n",
              "    }\n",
              "  "
            ]
          },
          "metadata": {}
        },
        {
          "output_type": "display_data",
          "data": {
            "text/plain": [
              "<IPython.core.display.Javascript object>"
            ],
            "application/javascript": [
              "download(\"download_aadbbb21-8a5f-4cd6-8f98-c8d61ff6a3c2\", \"output_images.zip\", 318299)"
            ]
          },
          "metadata": {}
        }
      ]
    }
  ]
}