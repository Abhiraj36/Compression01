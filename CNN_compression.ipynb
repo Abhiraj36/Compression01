{
  "nbformat": 4,
  "nbformat_minor": 0,
  "metadata": {
    "colab": {
      "provenance": [],
      "gpuType": "T4",
      "authorship_tag": "ABX9TyOh1yrE7qd8j19qVEQ9S2z3",
      "include_colab_link": true
    },
    "kernelspec": {
      "name": "python3",
      "display_name": "Python 3"
    },
    "language_info": {
      "name": "python"
    },
    "accelerator": "GPU"
  },
  "cells": [
    {
      "cell_type": "markdown",
      "metadata": {
        "id": "view-in-github",
        "colab_type": "text"
      },
      "source": [
        "<a href=\"https://colab.research.google.com/github/Abhiraj36/Compression01/blob/main/CNN_compression.ipynb\" target=\"_parent\"><img src=\"https://colab.research.google.com/assets/colab-badge.svg\" alt=\"Open In Colab\"/></a>"
      ]
    },
    {
      "cell_type": "code",
      "execution_count": 11,
      "metadata": {
        "colab": {
          "base_uri": "https://localhost:8080/"
        },
        "id": "dSz16n_AI_8f",
        "outputId": "6471dedf-c2b1-47cf-dcda-b55cd8053a48"
      },
      "outputs": [
        {
          "output_type": "stream",
          "name": "stdout",
          "text": [
            "\n",
            "Training Autoencoder...\n",
            "Autoencoder Epoch [1/5], Loss: 0.005822\n",
            "Autoencoder Epoch [2/5], Loss: 0.000605\n",
            "Autoencoder Epoch [3/5], Loss: 0.000380\n",
            "Autoencoder Epoch [4/5], Loss: 0.000277\n",
            "Autoencoder Epoch [5/5], Loss: 0.000218\n"
          ]
        }
      ],
      "source": [
        "import torch\n",
        "import torch.nn as nn\n",
        "import torch.optim as optim\n",
        "from torchvision import datasets, transforms\n",
        "from torch.utils.data import DataLoader\n",
        "from torchvision.utils import save_image\n",
        "import os\n",
        "\n",
        "# Ensure output directory exists\n",
        "os.makedirs(\"output_images\", exist_ok=True)\n",
        "\n",
        "# Device\n",
        "device = torch.device(\"cuda\" if torch.cuda.is_available() else \"cpu\")\n",
        "\n",
        "\n",
        "# Skip-Connected Autoencoder\n",
        "\n",
        "class SkipAutoencoder(nn.Module):\n",
        "    def __init__(self):\n",
        "        super(SkipAutoencoder, self).__init__()\n",
        "        # Encoder\n",
        "        self.enc1 = nn.Sequential(\n",
        "            nn.Conv2d(3, 64, 3, padding=1), nn.ReLU(inplace=True))\n",
        "        self.enc2 = nn.Sequential(\n",
        "            nn.Conv2d(64, 128, 3, stride=2, padding=1), nn.ReLU(inplace=True))  # 16x16\n",
        "        self.enc3 = nn.Sequential(\n",
        "            nn.Conv2d(128, 256, 3, stride=2, padding=1), nn.ReLU(inplace=True))  # 8x8\n",
        "\n",
        "        # Decoder\n",
        "        self.dec1 = nn.Sequential(\n",
        "            nn.ConvTranspose2d(256, 128, 4, stride=2, padding=1), nn.ReLU(inplace=True))  # 16x16\n",
        "        self.dec2 = nn.Sequential(\n",
        "            nn.ConvTranspose2d(256, 64, 4, stride=2, padding=1), nn.ReLU(inplace=True))  # 32x32\n",
        "        self.dec3 = nn.Sequential(\n",
        "            nn.Conv2d(128, 3, 3, padding=1), nn.Tanh())\n",
        "\n",
        "    def forward(self, x):\n",
        "        e1 = self.enc1(x)  # [B, 64, 32, 32]\n",
        "        e2 = self.enc2(e1) # [B, 128, 16, 16]\n",
        "        e3 = self.enc3(e2) # [B, 256, 8, 8]\n",
        "\n",
        "        d1 = self.dec1(e3)                # [B, 128, 16, 16]\n",
        "        d1_cat = torch.cat([d1, e2], 1)   # [B, 256, 16, 16]\n",
        "\n",
        "        d2 = self.dec2(d1_cat)           # [B, 64, 32, 32]\n",
        "        d2_cat = torch.cat([d2, e1], 1)  # [B, 128, 32, 32]\n",
        "\n",
        "        out = self.dec3(d2_cat)          # [B, 3, 32, 32]\n",
        "\n",
        "        return out, e3  # output and latent\n",
        "\n",
        "\n",
        "\n",
        "# Latent Compressor\n",
        "\n",
        "class LatentCompressor(nn.Module):\n",
        "    def __init__(self, input_channels=256):\n",
        "        super(LatentCompressor, self).__init__()\n",
        "        self.encoder = nn.Sequential(\n",
        "            nn.Conv2d(input_channels, 128, kernel_size=3, stride=2, padding=1),  # 8x8 -> 4x4\n",
        "            nn.ReLU(),\n",
        "            nn.Conv2d(128, 64, kernel_size=3, stride=2, padding=1),             # 4x4 -> 2x2\n",
        "            nn.ReLU(),\n",
        "        )\n",
        "        self.decoder = nn.Sequential(\n",
        "            nn.ConvTranspose2d(64, 128, kernel_size=4, stride=2, padding=1),    # 2x2 -> 4x4\n",
        "            nn.ReLU(),\n",
        "            nn.ConvTranspose2d(128, input_channels, kernel_size=4, stride=2, padding=1),  # 4x4 -> 8x8\n",
        "        )\n",
        "\n",
        "    def forward(self, x):\n",
        "        z = self.encoder(x)\n",
        "        out = self.decoder(z)\n",
        "        return out\n",
        "\n",
        "\n",
        "# Data Preparation\n",
        "\n",
        "transform = transforms.Compose([\n",
        "    transforms.ToTensor(),\n",
        "    transforms.Normalize((0.5, 0.5, 0.5), (0.5, 0.5, 0.5))  # normalize to [-1,1]\n",
        "])\n",
        "\n",
        "trainset = datasets.CIFAR10(root='./data', train=True, download=True, transform=transform)\n",
        "testset = datasets.CIFAR10(root='./data', train=False, download=True, transform=transform)\n",
        "\n",
        "trainloader = DataLoader(trainset, batch_size=128, shuffle=True)\n",
        "testloader = DataLoader(testset, batch_size=16, shuffle=False)\n",
        "\n",
        "\n",
        "# Initialize Models\n",
        "\n",
        "autoencoder = SkipAutoencoder().to(device)\n",
        "latent_compressor = LatentCompressor().to(device)\n",
        "\n",
        "\n",
        "# Train Autoencoder First (optional: or load pretrained)\n",
        "\n",
        "ae_optimizer = optim.Adam(autoencoder.parameters(), lr=0.001)\n",
        "ae_criterion = nn.MSELoss()\n",
        "\n",
        "print(\"\\nTraining Autoencoder...\")\n",
        "autoencoder.train()\n",
        "for epoch in range(5):  # Train AE (or load pre-trained)\n",
        "    total_loss = 0.0\n",
        "    for imgs, _ in trainloader:\n",
        "        imgs = imgs.to(device)\n",
        "        ae_optimizer.zero_grad()\n",
        "        recon, _ = autoencoder(imgs)\n",
        "        loss = ae_criterion(recon, imgs)\n",
        "        loss.backward()\n",
        "        ae_optimizer.step()\n",
        "        total_loss += loss.item() * imgs.size(0)\n",
        "\n",
        "    print(f\"Autoencoder Epoch [{epoch+1}/5], Loss: {total_loss / len(trainloader.dataset):.6f}\")\n",
        "\n",
        "\n"
      ]
    },
    {
      "cell_type": "code",
      "source": [
        "\n",
        "# Train Latent Compressor\n",
        "\n",
        "latent_compressor.train()\n",
        "comp_optimizer = optim.Adam(latent_compressor.parameters(), lr=0.001)\n",
        "comp_criterion = nn.MSELoss()\n",
        "\n",
        "print(\"\\nTraining Latent Compressor...\")\n",
        "for epoch in range(10):\n",
        "    total_loss = 0.0\n",
        "    for imgs, _ in trainloader:\n",
        "        imgs = imgs.to(device)\n",
        "        with torch.no_grad():\n",
        "            _, e3 = autoencoder(imgs)\n",
        "        comp_optimizer.zero_grad()\n",
        "        recon_e3 = latent_compressor(e3)\n",
        "        loss = comp_criterion(recon_e3, e3)\n",
        "        loss.backward()\n",
        "        comp_optimizer.step()\n",
        "        total_loss += loss.item() * imgs.size(0)\n",
        "\n",
        "    print(f\"Compressor Epoch [{epoch+1}/10], Loss: {total_loss / len(trainloader.dataset):.6f}\")\n",
        "\n"
      ],
      "metadata": {
        "colab": {
          "base_uri": "https://localhost:8080/"
        },
        "id": "ZesFmacJQJju",
        "outputId": "70bd8a5b-e010-49be-e215-3f4cd9297082"
      },
      "execution_count": 12,
      "outputs": [
        {
          "output_type": "stream",
          "name": "stdout",
          "text": [
            "\n",
            "Training Latent Compressor...\n",
            "Compressor Epoch [1/10], Loss: 0.015379\n",
            "Compressor Epoch [2/10], Loss: 0.006447\n",
            "Compressor Epoch [3/10], Loss: 0.004807\n",
            "Compressor Epoch [4/10], Loss: 0.004025\n",
            "Compressor Epoch [5/10], Loss: 0.003538\n",
            "Compressor Epoch [6/10], Loss: 0.003223\n",
            "Compressor Epoch [7/10], Loss: 0.002979\n",
            "Compressor Epoch [8/10], Loss: 0.002798\n",
            "Compressor Epoch [9/10], Loss: 0.002653\n",
            "Compressor Epoch [10/10], Loss: 0.002532\n"
          ]
        }
      ]
    },
    {
      "cell_type": "code",
      "source": [
        "\n",
        "\n",
        "# Evaluation & Saving Images\n",
        "\n",
        "autoencoder.eval()\n",
        "latent_compressor.eval()\n",
        "\n",
        "with torch.no_grad():\n",
        "    imgs, _ = next(iter(testloader))\n",
        "    imgs = imgs.to(device)\n",
        "\n",
        "    # Original latent\n",
        "    e1 = autoencoder.enc1(imgs)\n",
        "    e2 = autoencoder.enc2(e1)\n",
        "    e3 = autoencoder.enc3(e2)\n",
        "\n",
        "    # Compress e3\n",
        "    z = latent_compressor.encoder(e3)\n",
        "    print(f\"Compressed shape: {z.shape}\")  # e.g., [B,64,2,2]\n",
        "\n",
        "    # Decompress e3\n",
        "    decoded_e3 = latent_compressor.decoder(z)\n",
        "\n",
        "    # Decode full image using decoded_e3, e2, e1\n",
        "    d1 = autoencoder.dec1(decoded_e3)\n",
        "    d1_cat = torch.cat([d1, e2], 1)\n",
        "    d2 = autoencoder.dec2(d1_cat)\n",
        "    d2_cat = torch.cat([d2, e1], 1)\n",
        "    recon_from_compressed = autoencoder.dec3(d2_cat)\n",
        "\n",
        "    # Save all images\n",
        "    save_image(imgs * 0.5 + 0.5, \"output_images/original.png\")\n",
        "    recon_img, _ = autoencoder(imgs)\n",
        "    save_image(recon_img * 0.5 + 0.5, \"output_images/reconstructed.png\")\n",
        "    save_image(recon_from_compressed * 0.5 + 0.5, \"output_images/recon_from_compressed.png\")\n",
        "\n",
        "    # Size info\n",
        "    original_size = e3.nelement() * 4\n",
        "    compressed_size = z.nelement() * 4\n",
        "    print(f\"Original e3 size: {original_size / 1024:.2f} KB\")\n",
        "    print(f\"Compressed z size: {compressed_size / 1024:.2f} KB\")\n",
        "\n",
        "    print(\"Saved original, reconstructed, and compressed recon images.\")\n"
      ],
      "metadata": {
        "colab": {
          "base_uri": "https://localhost:8080/"
        },
        "id": "VsxT20L7QMSH",
        "outputId": "b0ec2c4f-c6d3-42ec-eb2d-c3907f04aefd"
      },
      "execution_count": 13,
      "outputs": [
        {
          "output_type": "stream",
          "name": "stdout",
          "text": [
            "Compressed shape: torch.Size([16, 64, 2, 2])\n",
            "Original e3 size: 1024.00 KB\n",
            "Compressed z size: 16.00 KB\n",
            "Saved original, reconstructed, and compressed recon images.\n"
          ]
        }
      ]
    },
    {
      "cell_type": "code",
      "source": [
        "# Simple quantization by scaling and rounding\n",
        "z_quantized = torch.round(z * 127)  # Scale latent values roughly to int8 range [-127, 127]\n",
        "z_quantized = z_quantized.to(torch.int8)  # Convert tensor to int8 type for smaller size\n"
      ],
      "metadata": {
        "id": "OKUikh8wUn4s"
      },
      "execution_count": 14,
      "outputs": []
    },
    {
      "cell_type": "code",
      "source": [
        "# Convert to NumPy array on CPU and save as raw binary file\n",
        "z_np = z_quantized.cpu().numpy()\n",
        "os.makedirs(\"output_images\", exist_ok=True)  # Make sure output folder exists\n",
        "z_np.tofile(\"output_images/compressed_latent.bin\")\n",
        "\n",
        "print(\"Quantized latent saved as binary file: output_images/compressed_latent.bin\")\n"
      ],
      "metadata": {
        "colab": {
          "base_uri": "https://localhost:8080/"
        },
        "id": "ytBh5tUAZhKH",
        "outputId": "612448d1-3938-4991-c03c-bd029e7e5da7"
      },
      "execution_count": 15,
      "outputs": [
        {
          "output_type": "stream",
          "name": "stdout",
          "text": [
            "Quantized latent saved as binary file: output_images/compressed_latent.bin\n"
          ]
        }
      ]
    },
    {
      "cell_type": "code",
      "source": [
        "# Calculate and print size of quantized latent in KB\n",
        "quantized_size = os.path.getsize(\"output_images/compressed_latent.bin\") / 1024\n",
        "print(f\"Quantized latent binary size: {quantized_size:.2f} KB\")\n"
      ],
      "metadata": {
        "colab": {
          "base_uri": "https://localhost:8080/"
        },
        "id": "b2dGOhmdZle0",
        "outputId": "b490c3be-14bc-46ea-a275-8553ad057a0b"
      },
      "execution_count": 16,
      "outputs": [
        {
          "output_type": "stream",
          "name": "stdout",
          "text": [
            "Quantized latent binary size: 4.00 KB\n"
          ]
        }
      ]
    },
    {
      "cell_type": "code",
      "source": [
        "# Load quantized latent from binary file\n",
        "loaded_np = np.fromfile(\"output_images/compressed_latent.bin\", dtype=np.int8)\n",
        "loaded_tensor = torch.from_numpy(loaded_np).float() / 127  # Scale back to approx original range\n",
        "\n",
        "# Reshape to latent tensor shape (same as z)\n",
        "loaded_tensor = loaded_tensor.view_as(z).to(device)\n",
        "\n",
        "# Decode latent as usual\n",
        "with torch.no_grad():\n",
        "    decoded_e3_loaded = latent_compressor.decoder(loaded_tensor)\n",
        "\n",
        "    d1_loaded = autoencoder.dec1(decoded_e3_loaded)\n",
        "    d1_cat_loaded = torch.cat([d1_loaded, e2], 1)\n",
        "    d2_loaded = autoencoder.dec2(d1_cat_loaded)\n",
        "    d2_cat_loaded = torch.cat([d2_loaded, e1], 1)\n",
        "    recon_loaded = autoencoder.dec3(d2_cat_loaded)\n",
        "\n",
        "    save_image(recon_loaded * 0.5 + 0.5, \"output_images/recon_from_loaded_compressed.png\")\n",
        "    print(\"Saved reconstructed image from loaded compressed latent.\")\n"
      ],
      "metadata": {
        "colab": {
          "base_uri": "https://localhost:8080/"
        },
        "id": "DuieXPZBZoaZ",
        "outputId": "66cc8b15-bf64-4f79-bb9a-27c2fb37fb42"
      },
      "execution_count": 17,
      "outputs": [
        {
          "output_type": "stream",
          "name": "stdout",
          "text": [
            "Saved reconstructed image from loaded compressed latent.\n"
          ]
        }
      ]
    }
  ]
}