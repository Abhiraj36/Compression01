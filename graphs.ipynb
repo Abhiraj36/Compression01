{
  "nbformat": 4,
  "nbformat_minor": 0,
  "metadata": {
    "colab": {
      "provenance": [],
      "authorship_tag": "ABX9TyPLLgG078W2BUyV3u3K26Dx",
      "include_colab_link": true
    },
    "kernelspec": {
      "name": "python3",
      "display_name": "Python 3"
    },
    "language_info": {
      "name": "python"
    }
  },
  "cells": [
    {
      "cell_type": "markdown",
      "metadata": {
        "id": "view-in-github",
        "colab_type": "text"
      },
      "source": [
        "<a href=\"https://colab.research.google.com/github/Abhiraj36/Compression01/blob/main/graphs.ipynb\" target=\"_parent\"><img src=\"https://colab.research.google.com/assets/colab-badge.svg\" alt=\"Open In Colab\"/></a>"
      ]
    },
    {
      "cell_type": "code",
      "execution_count": 1,
      "metadata": {
        "colab": {
          "base_uri": "https://localhost:8080/"
        },
        "id": "0sVaFkcQPF_L",
        "outputId": "f5b10561-6930-4c9a-b0d3-cf8c3a371fbf"
      },
      "outputs": [
        {
          "output_type": "stream",
          "name": "stdout",
          "text": [
            "Reading package lists... Done\n",
            "Building dependency tree... Done\n",
            "Reading state information... Done\n",
            "graphviz is already the newest version (2.42.2-6ubuntu0.1).\n",
            "0 upgraded, 0 newly installed, 0 to remove and 35 not upgraded.\n",
            "Requirement already satisfied: graphviz in /usr/local/lib/python3.11/dist-packages (0.20.3)\n",
            "Flowgraph saved to methodology_flowgraph.png\n"
          ]
        }
      ],
      "source": [
        "!apt-get install graphviz -y\n",
        "!pip install graphviz\n",
        "\n",
        "from graphviz import Digraph\n",
        "\n",
        "def save_methodology_flowgraph(path=\"methodology_flowgraph\"):\n",
        "    dot = Digraph(format='png')\n",
        "    dot.attr(rankdir='LR', size='8,5')\n",
        "\n",
        "    # Nodes\n",
        "    dot.node('A', 'Input Images')\n",
        "    dot.node('B', 'Autoencoder Encoder\\n(e1, e2, e3)')\n",
        "    dot.node('C', 'Latent Compressor Encoder\\n(z)')\n",
        "    dot.node('D', 'Quantization\\n(Straight-Through Estimator)')\n",
        "    dot.node('E', 'Entropy Coding\\n(zlib Compression)')\n",
        "    dot.node('F', 'Entropy Decoding\\n(zlib Decompression)')\n",
        "    dot.node('G', 'Dequantization\\n(Re-scale to float)')\n",
        "    dot.node('H', 'Latent Compressor Decoder\\n(decoded e3)')\n",
        "    dot.node('I', 'Autoencoder Decoder\\n(Reconstructed Image)')\n",
        "    dot.node('J', 'Evaluation Metrics\\n(PSNR, SSIM, Compression Ratio)')\n",
        "\n",
        "    # Edges\n",
        "    dot.edges(['AB', 'BC', 'CD', 'DE'])\n",
        "    dot.edge('E', 'F', label='Compressed Bitstream')\n",
        "    dot.edge('F', 'G')\n",
        "    dot.edge('G', 'H')\n",
        "    dot.edge('H', 'I')\n",
        "    dot.edge('I', 'J')\n",
        "\n",
        "    dot.render(path)\n",
        "    print(f\"Flowgraph saved to {path}.png\")\n",
        "\n",
        "# Run this to generate the graph:\n",
        "save_methodology_flowgraph()\n"
      ]
    },
    {
      "cell_type": "code",
      "source": [
        "from graphviz import Digraph\n",
        "\n",
        "dot = Digraph('Methodology', format='png')\n",
        "dot.attr(rankdir='TB', size='8,10')  # Top to Bottom layout, size in inches (width, height)\n",
        "\n",
        "# Global node style for square boxes\n",
        "dot.attr('node', shape='rectangle', style='filled', color='lightblue2',\n",
        "         fontname='Helvetica', fontsize='12', fixedsize='true', width='2', height='1')\n",
        "\n",
        "# Level 1: Encoding\n",
        "with dot.subgraph() as s:\n",
        "    s.attr(rank='same')\n",
        "    s.node('Input_Image', 'Input Image')\n",
        "    s.node('Encoder_Stage1', 'Encoder Stage 1 (enc1)')\n",
        "    s.node('Encoder_Stage2', 'Encoder Stage 2 (enc2)')\n",
        "    s.node('Encoder_Stage3', 'Encoder Stage 3 (enc3)')\n",
        "\n",
        "# Level 2: Compression & Quantization\n",
        "with dot.subgraph() as s:\n",
        "    s.attr(rank='same')\n",
        "    s.node('Latent_Compressor_Encoder', 'Latent Compressor Encoder')\n",
        "    s.node('Quantization', 'Quantization')\n",
        "    s.node('Binary_Save', 'Save Quantized Latent\\n(Binary + Zlib)')\n",
        "\n",
        "# Level 3: Decompression & Decoding\n",
        "with dot.subgraph() as s:\n",
        "    s.attr(rank='same')\n",
        "    s.node('Binary_Load', 'Load & Decompress Latent')\n",
        "    s.node('Latent_Compressor_Decoder', 'Latent Compressor Decoder')\n",
        "    s.node('Decoder_Stage1', 'Decoder Stage 1 (dec1)')\n",
        "    s.node('Decoder_Stage2', 'Decoder Stage 2 (dec2)')\n",
        "    s.node('Decoder_Stage3', 'Decoder Stage 3 (dec3)')\n",
        "    s.node('Reconstructed_Image', 'Reconstructed Image')\n",
        "\n",
        "# Edges - Encoding flow\n",
        "dot.edge('Input_Image', 'Encoder_Stage1')\n",
        "dot.edge('Encoder_Stage1', 'Encoder_Stage2')\n",
        "dot.edge('Encoder_Stage2', 'Encoder_Stage3')\n",
        "\n",
        "# Edges - Compression flow\n",
        "dot.edge('Encoder_Stage3', 'Latent_Compressor_Encoder')\n",
        "dot.edge('Latent_Compressor_Encoder', 'Quantization')\n",
        "dot.edge('Quantization', 'Binary_Save')\n",
        "\n",
        "# Edges - Decompression & Decoding flow\n",
        "dot.edge('Binary_Save', 'Binary_Load')\n",
        "dot.edge('Binary_Load', 'Latent_Compressor_Decoder')\n",
        "dot.edge('Latent_Compressor_Decoder', 'Decoder_Stage1')\n",
        "dot.edge('Decoder_Stage1', 'Decoder_Stage2')\n",
        "dot.edge('Decoder_Stage2', 'Decoder_Stage3')\n",
        "dot.edge('Decoder_Stage3', 'Reconstructed_Image')\n",
        "\n",
        "# Cross connections for skip connections (concatenation)\n",
        "dot.edge('Encoder_Stage2', 'Decoder_Stage1', style='dashed', color='gray', label='skip')\n",
        "dot.edge('Encoder_Stage1', 'Decoder_Stage2', style='dashed', color='gray', label='skip')\n",
        "\n",
        "# Render to file\n",
        "filename = 'production_methodology_flowgraph'\n",
        "dot.render(filename, cleanup=True)\n",
        "\n",
        "print(f\"Flow graph saved as {filename}.png\")\n"
      ],
      "metadata": {
        "colab": {
          "base_uri": "https://localhost:8080/"
        },
        "id": "muhp5WEtP0Ug",
        "outputId": "7404a522-5840-44e2-a51b-d891f49f2e37"
      },
      "execution_count": 2,
      "outputs": [
        {
          "output_type": "stream",
          "name": "stderr",
          "text": [
            "Warning: node 'Latent_Compressor_Encoder', graph 'Methodology' size too small for label\n",
            "Warning: node 'Binary_Load', graph 'Methodology' size too small for label\n",
            "Warning: node 'Latent_Compressor_Decoder', graph 'Methodology' size too small for label\n"
          ]
        },
        {
          "output_type": "stream",
          "name": "stdout",
          "text": [
            "Flow graph saved as production_methodology_flowgraph.png\n"
          ]
        }
      ]
    },
    {
      "cell_type": "code",
      "source": [
        "from graphviz import Digraph\n",
        "\n",
        "dot = Digraph('Methodology', format='png')\n",
        "dot.attr(rankdir='TB', size='10,12', splines='true', bgcolor='white')\n",
        "\n",
        "# Global node style: rounded rectangles with soft colors and border\n",
        "dot.attr('node', shape='rect', style='rounded,filled,bold',\n",
        "         fillcolor='#D5E8D4', color='#82B366',\n",
        "         fontname='Helvetica', fontsize='14', margin='0.2,0.1',\n",
        "         fixedsize='true', width='2', height='1')\n",
        "\n",
        "# Level 1: Encoding\n",
        "with dot.subgraph() as s:\n",
        "    s.attr(rank='same')\n",
        "    s.node('Input_Image', 'Input Image', fillcolor='#FFD966', color='#BF9000')\n",
        "    s.node('Encoder_Stage1', 'Encoder Stage 1 (enc1)')\n",
        "    s.node('Encoder_Stage2', 'Encoder Stage 2 (enc2)')\n",
        "    s.node('Encoder_Stage3', 'Encoder Stage 3 (enc3)')\n",
        "\n",
        "# Level 2: Compression & Quantization\n",
        "with dot.subgraph() as s:\n",
        "    s.attr(rank='same')\n",
        "    s.node('Latent_Compressor_Encoder', 'Latent Compressor Encoder', fillcolor='#A9D0F5', color='#6D9EEB')\n",
        "    s.node('Quantization', 'Quantization')\n",
        "    s.node('Binary_Save', 'Save Quantized Latent\\n(Binary + Zlib)', fillcolor='#F4CCCC', color='#CC0000')\n",
        "\n",
        "# Level 3: Decompression & Decoding\n",
        "with dot.subgraph() as s:\n",
        "    s.attr(rank='same')\n",
        "    s.node('Binary_Load', 'Load & Decompress Latent', fillcolor='#F4CCCC', color='#CC0000')\n",
        "    s.node('Latent_Compressor_Decoder', 'Latent Compressor Decoder', fillcolor='#A9D0F5', color='#6D9EEB')\n",
        "    s.node('Decoder_Stage1', 'Decoder Stage 1 (dec1)')\n",
        "    s.node('Decoder_Stage2', 'Decoder Stage 2 (dec2)')\n",
        "    s.node('Decoder_Stage3', 'Decoder Stage 3 (dec3)')\n",
        "    s.node('Reconstructed_Image', 'Reconstructed Image', fillcolor='#FFD966', color='#BF9000')\n",
        "\n",
        "# Edges - Encoding flow\n",
        "dot.edge('Input_Image', 'Encoder_Stage1', arrowhead='normal', color='#8C6B1F')\n",
        "dot.edge('Encoder_Stage1', 'Encoder_Stage2', arrowhead='normal', color='#8C6B1F')\n",
        "dot.edge('Encoder_Stage2', 'Encoder_Stage3', arrowhead='normal', color='#8C6B1F')\n",
        "\n",
        "# Edges - Compression flow\n",
        "dot.edge('Encoder_Stage3', 'Latent_Compressor_Encoder', arrowhead='normal', color='#3C78D8')\n",
        "dot.edge('Latent_Compressor_Encoder', 'Quantization', arrowhead='normal', color='#3C78D8')\n",
        "dot.edge('Quantization', 'Binary_Save', arrowhead='normal', color='#C00000')\n",
        "\n",
        "# Edges - Decompression & Decoding flow\n",
        "dot.edge('Binary_Save', 'Binary_Load', arrowhead='normal', color='#C00000')\n",
        "dot.edge('Binary_Load', 'Latent_Compressor_Decoder', arrowhead='normal', color='#3C78D8')\n",
        "dot.edge('Latent_Compressor_Decoder', 'Decoder_Stage1', arrowhead='normal', color='#3C78D8')\n",
        "dot.edge('Decoder_Stage1', 'Decoder_Stage2', arrowhead='normal', color='#3C78D8')\n",
        "dot.edge('Decoder_Stage2', 'Decoder_Stage3', arrowhead='normal', color='#3C78D8')\n",
        "dot.edge('Decoder_Stage3', 'Reconstructed_Image', arrowhead='normal', color='#8C6B1F')\n",
        "\n",
        "# Skip connections with dashed and gray thinner edges\n",
        "dot.edge('Encoder_Stage2', 'Decoder_Stage1', style='dashed', color='gray', penwidth='1', label='skip', fontsize='10', fontcolor='gray')\n",
        "dot.edge('Encoder_Stage1', 'Decoder_Stage2', style='dashed', color='gray', penwidth='1', label='skip', fontsize='10', fontcolor='gray')\n",
        "\n",
        "# Render to file\n",
        "filename = 'production_level_methodology_flowgraph'\n",
        "dot.render(filename, cleanup=True)\n",
        "\n",
        "print(f\"High-quality flow graph saved as {filename}.png\")\n"
      ],
      "metadata": {
        "colab": {
          "base_uri": "https://localhost:8080/"
        },
        "id": "bT2QW400QJr_",
        "outputId": "1962864e-35c0-4a5b-c600-c6fe0c414618"
      },
      "execution_count": 3,
      "outputs": [
        {
          "output_type": "stream",
          "name": "stderr",
          "text": [
            "Warning: node 'Latent_Compressor_Encoder', graph 'Methodology' size too small for label\n",
            "Warning: node 'Binary_Load', graph 'Methodology' size too small for label\n",
            "Warning: node 'Latent_Compressor_Decoder', graph 'Methodology' size too small for label\n"
          ]
        },
        {
          "output_type": "stream",
          "name": "stdout",
          "text": [
            "High-quality flow graph saved as production_level_methodology_flowgraph.png\n"
          ]
        }
      ]
    },
    {
      "cell_type": "code",
      "source": [
        "!pip install cairosvg\n",
        "\n",
        "\n",
        "from graphviz import Digraph\n",
        "\n",
        "dot = Digraph('Methodology', format='svg')\n",
        "dot.attr(rankdir='TB', size='10,15')  # Top-Bottom, larger canvas\n",
        "\n",
        "# Global node style for neatness\n",
        "dot.attr('node', shape='rect', style='rounded,filled,bold',\n",
        "         fontname='Helvetica', fontsize='14', margin='0.25,0.15')\n",
        "\n",
        "# --- LEVEL 1: Input & Encoder ---\n",
        "with dot.subgraph() as s:\n",
        "    s.attr(rank='same')  # same horizontal level\n",
        "    s.node('Input_Image', 'Input Image', fillcolor='#FFD966', color='#BF9000', width='2.5', height='1.2')\n",
        "\n",
        "with dot.subgraph() as s:\n",
        "    s.attr(rank='same')\n",
        "    s.node('Encoder_Stage1', 'Encoder Stage 1\\n(enc1)', fillcolor='#D5E8D4', color='#82B366', width='3', height='1.2')\n",
        "    s.node('Encoder_Stage2', 'Encoder Stage 2\\n(enc2)', fillcolor='#D5E8D4', color='#82B366', width='3', height='1.2')\n",
        "    s.node('Encoder_Stage3', 'Encoder Stage 3\\n(enc3)', fillcolor='#D5E8D4', color='#82B366', width='3', height='1.2')\n",
        "\n",
        "# --- LEVEL 2: Latent Compression & Quantization ---\n",
        "with dot.subgraph() as s:\n",
        "    s.attr(rank='same')\n",
        "    s.node('Latent_Compressor_Encoder', 'Latent Compressor Encoder', fillcolor='#A9D0F5', color='#6D9EEB', width='3.5', height='1.3')\n",
        "    s.node('Quantization', 'Quantization (Round & Scale)', fillcolor='#FFE599', color='#B45F06', width='3.5', height='1.3')\n",
        "\n",
        "# --- LEVEL 3: Storage & Loading ---\n",
        "with dot.subgraph() as s:\n",
        "    s.attr(rank='same')\n",
        "    s.node('Binary_Save', 'Save Quantized Latent\\n(Binary .bin)', fillcolor='#F4CCCC', color='#CC0000', width='3.5', height='1.3')\n",
        "    s.node('Zlib_Compress', 'Zlib Compression', fillcolor='#FCE5CD', color='#A65F00', width='3.5', height='1.3')\n",
        "    s.node('Binary_Load', 'Load & Decompress Latent', fillcolor='#F4CCCC', color='#CC0000', width='3.5', height='1.3')\n",
        "\n",
        "# --- LEVEL 4: Decoder & Reconstruction ---\n",
        "with dot.subgraph() as s:\n",
        "    s.attr(rank='same')\n",
        "    s.node('Latent_Compressor_Decoder', 'Latent Compressor Decoder', fillcolor='#A9D0F5', color='#6D9EEB', width='3.5', height='1.3')\n",
        "    s.node('Decoder_Stage1', 'Decoder Stage 1\\n(dec1)', fillcolor='#D5E8D4', color='#82B366', width='3', height='1.2')\n",
        "    s.node('Decoder_Stage2', 'Decoder Stage 2\\n(dec2)', fillcolor='#D5E8D4', color='#82B366', width='3', height='1.2')\n",
        "    s.node('Decoder_Stage3', 'Decoder Stage 3\\n(dec3)', fillcolor='#D5E8D4', color='#82B366', width='3', height='1.2')\n",
        "    s.node('Output_Image', 'Reconstructed Image', fillcolor='#FFD966', color='#BF9000', width='2.5', height='1.2')\n",
        "\n",
        "# --- Edges: Connect everything logically ---\n",
        "\n",
        "# Level 1 to 2\n",
        "dot.edge('Input_Image', 'Encoder_Stage1')\n",
        "dot.edge('Encoder_Stage1', 'Encoder_Stage2')\n",
        "dot.edge('Encoder_Stage2', 'Encoder_Stage3')\n",
        "dot.edge('Encoder_Stage3', 'Latent_Compressor_Encoder')\n",
        "\n",
        "# Level 2 to 3\n",
        "dot.edge('Latent_Compressor_Encoder', 'Quantization')\n",
        "dot.edge('Quantization', 'Binary_Save')\n",
        "dot.edge('Binary_Save', 'Zlib_Compress')\n",
        "dot.edge('Zlib_Compress', 'Binary_Load')\n",
        "\n",
        "# Level 3 to 4\n",
        "dot.edge('Binary_Load', 'Latent_Compressor_Decoder')\n",
        "\n",
        "# Level 4 decoding with skip connections\n",
        "dot.edge('Latent_Compressor_Decoder', 'Decoder_Stage1')\n",
        "dot.edge('Decoder_Stage1', 'Decoder_Stage2')\n",
        "dot.edge('Decoder_Stage2', 'Decoder_Stage3')\n",
        "\n",
        "# Skip connections back (dashed edges for clarity)\n",
        "dot.edge('Decoder_Stage1', 'Decoder_Stage2', style='dashed', color='gray')\n",
        "dot.edge('Decoder_Stage2', 'Decoder_Stage3', style='dashed', color='gray')\n",
        "\n",
        "# Connect to output\n",
        "dot.edge('Decoder_Stage3', 'Output_Image')\n",
        "\n",
        "# Save as SVG for perfect quality\n",
        "dot.render('production_level_methodology_flowgraph', cleanup=True)\n",
        "print(\"High-quality SVG flow graph saved as 'production_level_methodology_flowgraph.svg'\")\n",
        "\n",
        "# Optional: Convert SVG to PNG using cairosvg for high DPI raster image\n",
        "# !pip install cairosvg\n",
        "import cairosvg\n",
        "cairosvg.svg2png(url='production_level_methodology_flowgraph.svg', write_to='production_level_methodology_flowgraph.png', dpi=300)\n",
        "print(\"High-quality PNG flow graph saved as 'production_level_methodology_flowgraph.png'\")\n"
      ],
      "metadata": {
        "colab": {
          "base_uri": "https://localhost:8080/"
        },
        "id": "9-4ngaG1Qpf5",
        "outputId": "b4dc61e4-0d38-4b39-f9d8-a35044007f39"
      },
      "execution_count": 5,
      "outputs": [
        {
          "output_type": "stream",
          "name": "stdout",
          "text": [
            "Collecting cairosvg\n",
            "  Downloading cairosvg-2.8.2-py3-none-any.whl.metadata (2.7 kB)\n",
            "Collecting cairocffi (from cairosvg)\n",
            "  Downloading cairocffi-1.7.1-py3-none-any.whl.metadata (3.3 kB)\n",
            "Collecting cssselect2 (from cairosvg)\n",
            "  Downloading cssselect2-0.8.0-py3-none-any.whl.metadata (2.9 kB)\n",
            "Requirement already satisfied: defusedxml in /usr/local/lib/python3.11/dist-packages (from cairosvg) (0.7.1)\n",
            "Requirement already satisfied: pillow in /usr/local/lib/python3.11/dist-packages (from cairosvg) (11.2.1)\n",
            "Requirement already satisfied: tinycss2 in /usr/local/lib/python3.11/dist-packages (from cairosvg) (1.4.0)\n",
            "Requirement already satisfied: cffi>=1.1.0 in /usr/local/lib/python3.11/dist-packages (from cairocffi->cairosvg) (1.17.1)\n",
            "Requirement already satisfied: webencodings in /usr/local/lib/python3.11/dist-packages (from cssselect2->cairosvg) (0.5.1)\n",
            "Requirement already satisfied: pycparser in /usr/local/lib/python3.11/dist-packages (from cffi>=1.1.0->cairocffi->cairosvg) (2.22)\n",
            "Downloading cairosvg-2.8.2-py3-none-any.whl (45 kB)\n",
            "\u001b[2K   \u001b[90m━━━━━━━━━━━━━━━━━━━━━━━━━━━━━━━━━━━━━━━━\u001b[0m \u001b[32m45.8/45.8 kB\u001b[0m \u001b[31m3.8 MB/s\u001b[0m eta \u001b[36m0:00:00\u001b[0m\n",
            "\u001b[?25hDownloading cairocffi-1.7.1-py3-none-any.whl (75 kB)\n",
            "\u001b[2K   \u001b[90m━━━━━━━━━━━━━━━━━━━━━━━━━━━━━━━━━━━━━━━━\u001b[0m \u001b[32m75.6/75.6 kB\u001b[0m \u001b[31m6.9 MB/s\u001b[0m eta \u001b[36m0:00:00\u001b[0m\n",
            "\u001b[?25hDownloading cssselect2-0.8.0-py3-none-any.whl (15 kB)\n",
            "Installing collected packages: cssselect2, cairocffi, cairosvg\n",
            "Successfully installed cairocffi-1.7.1 cairosvg-2.8.2 cssselect2-0.8.0\n",
            "High-quality SVG flow graph saved as 'production_level_methodology_flowgraph.svg'\n",
            "High-quality PNG flow graph saved as 'production_level_methodology_flowgraph.png'\n"
          ]
        }
      ]
    },
    {
      "cell_type": "code",
      "source": [
        "from graphviz import Digraph\n",
        "\n",
        "dot = Digraph('Quantization_Compression_Module', format='svg')\n",
        "\n",
        "# Graph attributes for clean layout\n",
        "dot.attr(rankdir='LR', size='10,5')\n",
        "dot.attr('node', shape='rectangle', style='filled', fillcolor='#e0f7fa', fontname='Helvetica', fontsize='12')\n",
        "dot.attr('edge', fontsize='10')\n",
        "\n",
        "# Nodes\n",
        "dot.node('z', 'Latent Tensor z\\n(float32)', width='2.5', height='1.0', shape='box')\n",
        "dot.node('quant', 'Quantization\\n(STE / Round)', width='2.5', height='1.0', shape='box', fillcolor='#b2ebf2')\n",
        "dot.node('int8', 'Convert to int8\\n(Clamp & Cast)', width='2.5', height='1.0', shape='box')\n",
        "dot.node('serialize', 'Serialize to Binary\\n(Numpy tofile)', width='2.5', height='1.0', shape='box', fillcolor='#b2ebf2')\n",
        "dot.node('entropy', 'Entropy Coding\\n(zlib Compression)', width='3.0', height='1.0', shape='box')\n",
        "dot.node('save', 'Save Compressed File\\n(\"compressed_latent_zlib.bin\")', width='3.0', height='1.0', shape='box', fillcolor='#b2ebf2')\n",
        "\n",
        "# Edges\n",
        "dot.edge('z', 'quant', label='Input latent tensor')\n",
        "dot.edge('quant', 'int8', label='Quantized tensor')\n",
        "dot.edge('int8', 'serialize', label='Int8 tensor')\n",
        "dot.edge('serialize', 'entropy', label='Raw binary data')\n",
        "dot.edge('entropy', 'save', label='Compressed binary')\n",
        "\n",
        "# Render\n",
        "output_path = dot.render(filename='quantization_compression_module', directory='output_images', cleanup=True)\n",
        "print(f\"High-quality SVG flow graph saved as '{output_path}'\")\n"
      ],
      "metadata": {
        "colab": {
          "base_uri": "https://localhost:8080/"
        },
        "id": "nI90yo7cS3RJ",
        "outputId": "7a2b5e4d-7a4a-44f1-83be-cd275b4a4227"
      },
      "execution_count": 6,
      "outputs": [
        {
          "output_type": "stream",
          "name": "stdout",
          "text": [
            "High-quality SVG flow graph saved as 'output_images/quantization_compression_module.svg'\n"
          ]
        }
      ]
    },
    {
      "cell_type": "code",
      "source": [
        "from graphviz import Digraph\n",
        "\n",
        "dot = Digraph('Quantization_Compression_Module_Stacked', format='svg')\n",
        "\n",
        "# Graph attributes for square-ish layout\n",
        "dot.attr(size='6,6')\n",
        "dot.attr('node', shape='rectangle', style='filled', fillcolor='#e0f7fa', fontname='Helvetica', fontsize='12')\n",
        "dot.attr('edge', fontsize='10')\n",
        "\n",
        "# Define nodes (width and height tweaked for better shape)\n",
        "dot.node('z', 'Latent Tensor z\\n(float32)', width='2.5', height='1.0')\n",
        "dot.node('quant', 'Quantization\\n(STE / Round)', width='2.5', height='1.0', fillcolor='#b2ebf2')\n",
        "dot.node('int8', 'Convert to int8\\n(Clamp & Cast)', width='2.5', height='1.0')\n",
        "\n",
        "dot.node('entropy', 'Entropy Coding\\n(zlib Compression)', width='3.0', height='1.0')\n",
        "dot.node('save', 'Save Compressed File\\n(\"compressed_latent_zlib.bin\")', width='3.0', height='1.0', fillcolor='#b2ebf2')\n",
        "\n",
        "# Top row edges\n",
        "dot.edge('z', 'quant', label='Input latent tensor')\n",
        "dot.edge('quant', 'int8', label='Quantized tensor')\n",
        "\n",
        "# Bottom row edges\n",
        "dot.edge('entropy', 'save', label='Compressed binary')\n",
        "\n",
        "# Invisible edges to enforce vertical layering\n",
        "dot.edge('int8', 'entropy', style='invis')\n",
        "\n",
        "# Use subgraph clusters to organize layout\n",
        "with dot.subgraph() as top:\n",
        "    top.attr(rank='same')\n",
        "    top.node('z')\n",
        "    top.node('quant')\n",
        "    top.node('int8')\n",
        "\n",
        "with dot.subgraph() as bottom:\n",
        "    bottom.attr(rank='same')\n",
        "    bottom.node('entropy')\n",
        "    bottom.node('save')\n",
        "\n",
        "# Render the graph to SVG\n",
        "output_path = dot.render(filename='quantization_compression_module_stacked', directory='output_images', cleanup=True)\n",
        "print(f\"High-quality stacked SVG flow graph saved as '{output_path}'\")\n"
      ],
      "metadata": {
        "colab": {
          "base_uri": "https://localhost:8080/"
        },
        "id": "X9YWyfy_TMlA",
        "outputId": "54c5c422-3205-4e46-9682-f052b604ad10"
      },
      "execution_count": 7,
      "outputs": [
        {
          "output_type": "stream",
          "name": "stdout",
          "text": [
            "High-quality stacked SVG flow graph saved as 'output_images/quantization_compression_module_stacked.svg'\n"
          ]
        }
      ]
    },
    {
      "cell_type": "code",
      "source": [
        "import graphviz\n",
        "\n",
        "dot = graphviz.Digraph('Quantization_Entropy_Coding', format='svg')\n",
        "\n",
        "dot.attr(rankdir='TB', size='8,6')\n",
        "\n",
        "# Define nodes with styling for production quality\n",
        "node_attrs = {\n",
        "    'shape': 'box',\n",
        "    'style': 'filled,rounded',\n",
        "    'color': '#2c3e50',\n",
        "    'fillcolor': '#ecf0f1',\n",
        "    'fontname': 'Helvetica',\n",
        "    'fontsize': '12',\n",
        "    'width': '2.8',\n",
        "    'height': '0.9',\n",
        "    'margin': '0.2',\n",
        "}\n",
        "\n",
        "with dot.subgraph() as s:\n",
        "    s.attr(rank='same')  # Top level nodes\n",
        "    s.node('Latent_z', 'Latent Representation z\\n(float32 tensor)', **node_attrs)\n",
        "    s.node('Quantize', 'Quantization\\n($\\hat{z} = round(s \\cdot z)$)', **node_attrs)\n",
        "    s.node('Convert_to_Int8', 'Convert to Int8\\n(clamping & scaling)', **node_attrs)\n",
        "\n",
        "with dot.subgraph() as s:\n",
        "    s.attr(rank='same')  # Bottom level nodes\n",
        "    s.node('Bytes_Stream', 'Convert to Bytes\\n(raw binary)', **node_attrs)\n",
        "    s.node('Zlib_Compress', 'Entropy Coding\\n(Zlib Compression)', **node_attrs)\n",
        "    s.node('Compressed_Binary', 'Compressed Binary File\\n(output)', **node_attrs)\n",
        "\n",
        "# Edges for top level\n",
        "dot.edge('Latent_z', 'Quantize')\n",
        "dot.edge('Quantize', 'Convert_to_Int8')\n",
        "\n",
        "# Edges for bottom level\n",
        "dot.edge('Convert_to_Int8', 'Bytes_Stream')\n",
        "dot.edge('Bytes_Stream', 'Zlib_Compress')\n",
        "dot.edge('Zlib_Compress', 'Compressed_Binary')\n",
        "\n",
        "# Decompression and decoding path (dashed)\n",
        "dot.node('Decompress', 'Decompression\\n(Zlib Decompress)', **node_attrs)\n",
        "dot.node('Bytes_to_Int8', 'Bytes to Int8\\n(Convert back)', **node_attrs)\n",
        "dot.node('Dequantize', 'Dequantization\\n($\\tilde{z} = \\hat{z} / s$)', **node_attrs)\n",
        "dot.node('Latent_Decoder', 'Latent Decoder\\n(Decode $\\tilde{z}$)', **node_attrs)\n",
        "\n",
        "# Arrange decompression nodes in rank\n",
        "with dot.subgraph() as s:\n",
        "    s.attr(rank='same')\n",
        "    s.node('Decompress')\n",
        "    s.node('Bytes_to_Int8')\n",
        "    s.node('Dequantize')\n",
        "    s.node('Latent_Decoder')\n",
        "\n",
        "# Decompression edges\n",
        "dot.edge('Compressed_Binary', 'Decompress', style='dashed')\n",
        "dot.edge('Decompress', 'Bytes_to_Int8', style='dashed')\n",
        "dot.edge('Bytes_to_Int8', 'Dequantize', style='dashed')\n",
        "dot.edge('Dequantize', 'Latent_Decoder', style='dashed')\n",
        "\n",
        "# Save and render SVG file\n",
        "output_filename = 'production_level_quantization_entropy_flowchart'\n",
        "dot.render(output_filename)\n",
        "\n",
        "print(f\"High-quality SVG flow graph saved as '{output_filename}.svg'\")\n"
      ],
      "metadata": {
        "colab": {
          "base_uri": "https://localhost:8080/"
        },
        "id": "e2SeM0tGU6yd",
        "outputId": "784f95bf-f7dc-415e-8ea3-d665c669c177"
      },
      "execution_count": 8,
      "outputs": [
        {
          "output_type": "stream",
          "name": "stdout",
          "text": [
            "High-quality SVG flow graph saved as 'production_level_quantization_entropy_flowchart.svg'\n"
          ]
        }
      ]
    }
  ]
}